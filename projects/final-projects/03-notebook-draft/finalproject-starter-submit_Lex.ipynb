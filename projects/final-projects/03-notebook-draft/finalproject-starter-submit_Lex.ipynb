{
 "cells": [
  {
   "cell_type": "markdown",
   "metadata": {},
   "source": [
    "# Set up your notebook"
   ]
  },
  {
   "cell_type": "code",
   "execution_count": null,
   "metadata": {
    "collapsed": true
   },
   "outputs": [],
   "source": [
    "import pandas as pd\n",
    "import numpy as np\n",
    "import matplotlib.pyplot as plt\n",
    "import seaborn as sns\n",
    "from sklearn.linear_model import LogisticRegression\n",
    "from sklearn.metrics import roc_curve, roc_auc_score, accuracy_score, auc, confusion_matrix, recall_score, precision_score\n",
    "\n",
    "import statsmodels.formula.api as smf\n",
    "%matplotlib inline"
   ]
  },
  {
   "cell_type": "markdown",
   "metadata": {},
   "source": [
    "# Executive Summary"
   ]
  },
  {
   "cell_type": "markdown",
   "metadata": {},
   "source": [
    "- Come back to this after your analysis has been completed."
   ]
  },
  {
   "cell_type": "code",
   "execution_count": null,
   "metadata": {
    "collapsed": true
   },
   "outputs": [],
   "source": [
    "# Conclusion from analysis was that the stock price performance of Apple, Facebook, and Google \n",
    "# has an even smaller impact on the odds that the S&P 500 price index has gone up from the previous day's S&P 500 Price\n",
    "# when compared to the number of Motley Fool Articles published on the topic of the \"S&P 500\" on that day.\n",
    "\n",
    "# Second conclusion: the price of Facebook is more strongly correlated with the S&P 500 as compared to Google and Apple."
   ]
  },
  {
   "cell_type": "markdown",
   "metadata": {},
   "source": [
    "# Problem Statement"
   ]
  },
  {
   "cell_type": "markdown",
   "metadata": {},
   "source": [
    "## What are you trying to find out?"
   ]
  },
  {
   "cell_type": "markdown",
   "metadata": {},
   "source": [
    "- Write a well-formed problem statement, with reference to the SMART guideline. Remember that not all of the letters may apply in all cases, it is just a guideline you can follow.\n"
   ]
  },
  {
   "cell_type": "code",
   "execution_count": null,
   "metadata": {
    "collapsed": true
   },
   "outputs": [],
   "source": [
    "# 1: Does the number of articles about the \"S&P500\" on www.fool.com, an investment website, affect the S&P500 price?\n",
    "# 2: Does the stock prices of Google, Facebook and Amazon affect the S&P500 Index price? \n",
    "\n",
    "# Notes: The S&P 500 Index is a number which is a \"weighted average\" price of the 500 largest companies in the US."
   ]
  },
  {
   "cell_type": "markdown",
   "metadata": {},
   "source": []
  },
  {
   "cell_type": "markdown",
   "metadata": {},
   "source": [
    "## What is your dataset about?"
   ]
  },
  {
   "cell_type": "code",
   "execution_count": null,
   "metadata": {
    "collapsed": true
   },
   "outputs": [],
   "source": [
    "# First, we will run a BeautifulSoup script to extract the dataset from the investment website www.fool.com"
   ]
  },
  {
   "cell_type": "code",
   "execution_count": 290,
   "metadata": {},
   "outputs": [
    {
     "name": "stdout",
     "output_type": "stream",
     "text": [
      "40496\n",
      "http://www.fool.com/search/solr.aspx?dataSource=article&handleSearch=true&page=1&q=S%26P+500&source=isesitbut0000001\n",
      "Yes\n",
      "Yes\n",
      "Yes\n",
      "http://www.fool.com/search/solr.aspx?dataSource=article&handleSearch=true&page=2&q=S%26P+500&source=isesitbut0000001\n",
      "Yes\n",
      "Yes\n",
      "Yes\n",
      "Yes\n",
      "Yes\n",
      "Yes\n",
      "http://www.fool.com/search/solr.aspx?dataSource=article&handleSearch=true&page=3&q=S%26P+500&source=isesitbut0000001\n",
      "Yes\n",
      "Yes\n",
      "http://www.fool.com/search/solr.aspx?dataSource=article&handleSearch=true&page=4&q=S%26P+500&source=isesitbut0000001\n",
      "Yes\n",
      "Yes\n",
      "http://www.fool.com/search/solr.aspx?dataSource=article&handleSearch=true&page=5&q=S%26P+500&source=isesitbut0000001\n",
      "Yes\n",
      "Yes\n",
      "Yes\n",
      "Yes\n",
      "Yes\n",
      "Yes\n",
      "Yes\n",
      "Yes\n",
      "http://www.fool.com/search/solr.aspx?dataSource=article&handleSearch=true&page=6&q=S%26P+500&source=isesitbut0000001\n",
      "Yes\n",
      "Yes\n",
      "Yes\n",
      "Yes\n",
      "Yes\n",
      "http://www.fool.com/search/solr.aspx?dataSource=article&handleSearch=true&page=7&q=S%26P+500&source=isesitbut0000001\n",
      "Yes\n",
      "Yes\n",
      "http://www.fool.com/search/solr.aspx?dataSource=article&handleSearch=true&page=8&q=S%26P+500&source=isesitbut0000001\n",
      "http://www.fool.com/search/solr.aspx?dataSource=article&handleSearch=true&page=9&q=S%26P+500&source=isesitbut0000001\n",
      "http://www.fool.com/search/solr.aspx?dataSource=article&handleSearch=true&page=10&q=S%26P+500&source=isesitbut0000001\n",
      "http://www.fool.com/search/solr.aspx?dataSource=article&handleSearch=true&page=11&q=S%26P+500&source=isesitbut0000001\n",
      "http://www.fool.com/search/solr.aspx?dataSource=article&handleSearch=true&page=12&q=S%26P+500&source=isesitbut0000001\n",
      "Yes\n",
      "http://www.fool.com/search/solr.aspx?dataSource=article&handleSearch=true&page=13&q=S%26P+500&source=isesitbut0000001\n",
      "http://www.fool.com/search/solr.aspx?dataSource=article&handleSearch=true&page=14&q=S%26P+500&source=isesitbut0000001\n",
      "http://www.fool.com/search/solr.aspx?dataSource=article&handleSearch=true&page=15&q=S%26P+500&source=isesitbut0000001\n",
      "http://www.fool.com/search/solr.aspx?dataSource=article&handleSearch=true&page=16&q=S%26P+500&source=isesitbut0000001\n",
      "http://www.fool.com/search/solr.aspx?dataSource=article&handleSearch=true&page=17&q=S%26P+500&source=isesitbut0000001\n",
      "http://www.fool.com/search/solr.aspx?dataSource=article&handleSearch=true&page=18&q=S%26P+500&source=isesitbut0000001\n",
      "http://www.fool.com/search/solr.aspx?dataSource=article&handleSearch=true&page=19&q=S%26P+500&source=isesitbut0000001\n",
      "http://www.fool.com/search/solr.aspx?dataSource=article&handleSearch=true&page=20&q=S%26P+500&source=isesitbut0000001\n",
      "http://www.fool.com/search/solr.aspx?dataSource=article&handleSearch=true&page=21&q=S%26P+500&source=isesitbut0000001\n",
      "http://www.fool.com/search/solr.aspx?dataSource=article&handleSearch=true&page=22&q=S%26P+500&source=isesitbut0000001\n",
      "http://www.fool.com/search/solr.aspx?dataSource=article&handleSearch=true&page=23&q=S%26P+500&source=isesitbut0000001\n",
      "http://www.fool.com/search/solr.aspx?dataSource=article&handleSearch=true&page=24&q=S%26P+500&source=isesitbut0000001\n",
      "http://www.fool.com/search/solr.aspx?dataSource=article&handleSearch=true&page=25&q=S%26P+500&source=isesitbut0000001\n",
      "http://www.fool.com/search/solr.aspx?dataSource=article&handleSearch=true&page=26&q=S%26P+500&source=isesitbut0000001\n",
      "Yes\n",
      "http://www.fool.com/search/solr.aspx?dataSource=article&handleSearch=true&page=27&q=S%26P+500&source=isesitbut0000001\n",
      "http://www.fool.com/search/solr.aspx?dataSource=article&handleSearch=true&page=28&q=S%26P+500&source=isesitbut0000001\n",
      "http://www.fool.com/search/solr.aspx?dataSource=article&handleSearch=true&page=29&q=S%26P+500&source=isesitbut0000001\n",
      "http://www.fool.com/search/solr.aspx?dataSource=article&handleSearch=true&page=30&q=S%26P+500&source=isesitbut0000001\n",
      "http://www.fool.com/search/solr.aspx?dataSource=article&handleSearch=true&page=31&q=S%26P+500&source=isesitbut0000001\n",
      "http://www.fool.com/search/solr.aspx?dataSource=article&handleSearch=true&page=32&q=S%26P+500&source=isesitbut0000001\n",
      "Yes\n",
      "http://www.fool.com/search/solr.aspx?dataSource=article&handleSearch=true&page=33&q=S%26P+500&source=isesitbut0000001\n",
      "Yes\n",
      "http://www.fool.com/search/solr.aspx?dataSource=article&handleSearch=true&page=34&q=S%26P+500&source=isesitbut0000001\n",
      "Yes\n",
      "Yes\n",
      "Yes\n",
      "http://www.fool.com/search/solr.aspx?dataSource=article&handleSearch=true&page=35&q=S%26P+500&source=isesitbut0000001\n",
      "Yes\n",
      "Yes\n",
      "Yes\n",
      "Yes\n",
      "Yes\n",
      "Yes\n",
      "Yes\n",
      "http://www.fool.com/search/solr.aspx?dataSource=article&handleSearch=true&page=36&q=S%26P+500&source=isesitbut0000001\n",
      "Yes\n",
      "Yes\n",
      "Yes\n",
      "http://www.fool.com/search/solr.aspx?dataSource=article&handleSearch=true&page=37&q=S%26P+500&source=isesitbut0000001\n",
      "Yes\n",
      "Yes\n",
      "http://www.fool.com/search/solr.aspx?dataSource=article&handleSearch=true&page=38&q=S%26P+500&source=isesitbut0000001\n",
      "Yes\n",
      "Yes\n",
      "http://www.fool.com/search/solr.aspx?dataSource=article&handleSearch=true&page=39&q=S%26P+500&source=isesitbut0000001\n",
      "Yes\n",
      "Yes\n",
      "http://www.fool.com/search/solr.aspx?dataSource=article&handleSearch=true&page=40&q=S%26P+500&source=isesitbut0000001\n",
      "Yes\n",
      "Yes\n",
      "http://www.fool.com/search/solr.aspx?dataSource=article&handleSearch=true&page=41&q=S%26P+500&source=isesitbut0000001\n",
      "Yes\n",
      "Yes\n",
      "http://www.fool.com/search/solr.aspx?dataSource=article&handleSearch=true&page=42&q=S%26P+500&source=isesitbut0000001\n",
      "Yes\n",
      "http://www.fool.com/search/solr.aspx?dataSource=article&handleSearch=true&page=43&q=S%26P+500&source=isesitbut0000001\n",
      "Yes\n",
      "http://www.fool.com/search/solr.aspx?dataSource=article&handleSearch=true&page=44&q=S%26P+500&source=isesitbut0000001\n",
      "http://www.fool.com/search/solr.aspx?dataSource=article&handleSearch=true&page=45&q=S%26P+500&source=isesitbut0000001\n",
      "http://www.fool.com/search/solr.aspx?dataSource=article&handleSearch=true&page=46&q=S%26P+500&source=isesitbut0000001\n",
      "http://www.fool.com/search/solr.aspx?dataSource=article&handleSearch=true&page=47&q=S%26P+500&source=isesitbut0000001\n",
      "http://www.fool.com/search/solr.aspx?dataSource=article&handleSearch=true&page=48&q=S%26P+500&source=isesitbut0000001\n",
      "http://www.fool.com/search/solr.aspx?dataSource=article&handleSearch=true&page=49&q=S%26P+500&source=isesitbut0000001\n",
      "http://www.fool.com/search/solr.aspx?dataSource=article&handleSearch=true&page=50&q=S%26P+500&source=isesitbut0000001\n",
      "http://www.fool.com/search/solr.aspx?dataSource=article&handleSearch=true&page=51&q=S%26P+500&source=isesitbut0000001\n",
      "http://www.fool.com/search/solr.aspx?dataSource=article&handleSearch=true&page=52&q=S%26P+500&source=isesitbut0000001\n",
      "http://www.fool.com/search/solr.aspx?dataSource=article&handleSearch=true&page=53&q=S%26P+500&source=isesitbut0000001\n",
      "http://www.fool.com/search/solr.aspx?dataSource=article&handleSearch=true&page=54&q=S%26P+500&source=isesitbut0000001\n",
      "http://www.fool.com/search/solr.aspx?dataSource=article&handleSearch=true&page=55&q=S%26P+500&source=isesitbut0000001\n",
      "http://www.fool.com/search/solr.aspx?dataSource=article&handleSearch=true&page=56&q=S%26P+500&source=isesitbut0000001\n",
      "http://www.fool.com/search/solr.aspx?dataSource=article&handleSearch=true&page=57&q=S%26P+500&source=isesitbut0000001\n",
      "http://www.fool.com/search/solr.aspx?dataSource=article&handleSearch=true&page=58&q=S%26P+500&source=isesitbut0000001\n",
      "http://www.fool.com/search/solr.aspx?dataSource=article&handleSearch=true&page=59&q=S%26P+500&source=isesitbut0000001\n",
      "http://www.fool.com/search/solr.aspx?dataSource=article&handleSearch=true&page=60&q=S%26P+500&source=isesitbut0000001\n",
      "http://www.fool.com/search/solr.aspx?dataSource=article&handleSearch=true&page=61&q=S%26P+500&source=isesitbut0000001\n",
      "http://www.fool.com/search/solr.aspx?dataSource=article&handleSearch=true&page=62&q=S%26P+500&source=isesitbut0000001\n",
      "http://www.fool.com/search/solr.aspx?dataSource=article&handleSearch=true&page=63&q=S%26P+500&source=isesitbut0000001\n",
      "http://www.fool.com/search/solr.aspx?dataSource=article&handleSearch=true&page=64&q=S%26P+500&source=isesitbut0000001\n",
      "http://www.fool.com/search/solr.aspx?dataSource=article&handleSearch=true&page=65&q=S%26P+500&source=isesitbut0000001\n",
      "http://www.fool.com/search/solr.aspx?dataSource=article&handleSearch=true&page=66&q=S%26P+500&source=isesitbut0000001\n",
      "http://www.fool.com/search/solr.aspx?dataSource=article&handleSearch=true&page=67&q=S%26P+500&source=isesitbut0000001\n",
      "http://www.fool.com/search/solr.aspx?dataSource=article&handleSearch=true&page=68&q=S%26P+500&source=isesitbut0000001\n"
     ]
    },
    {
     "name": "stdout",
     "output_type": "stream",
     "text": [
      "http://www.fool.com/search/solr.aspx?dataSource=article&handleSearch=true&page=69&q=S%26P+500&source=isesitbut0000001\n",
      "http://www.fool.com/search/solr.aspx?dataSource=article&handleSearch=true&page=70&q=S%26P+500&source=isesitbut0000001\n",
      "http://www.fool.com/search/solr.aspx?dataSource=article&handleSearch=true&page=71&q=S%26P+500&source=isesitbut0000001\n",
      "http://www.fool.com/search/solr.aspx?dataSource=article&handleSearch=true&page=72&q=S%26P+500&source=isesitbut0000001\n",
      "http://www.fool.com/search/solr.aspx?dataSource=article&handleSearch=true&page=73&q=S%26P+500&source=isesitbut0000001\n",
      "http://www.fool.com/search/solr.aspx?dataSource=article&handleSearch=true&page=74&q=S%26P+500&source=isesitbut0000001\n",
      "http://www.fool.com/search/solr.aspx?dataSource=article&handleSearch=true&page=75&q=S%26P+500&source=isesitbut0000001\n",
      "http://www.fool.com/search/solr.aspx?dataSource=article&handleSearch=true&page=76&q=S%26P+500&source=isesitbut0000001\n",
      "http://www.fool.com/search/solr.aspx?dataSource=article&handleSearch=true&page=77&q=S%26P+500&source=isesitbut0000001\n",
      "http://www.fool.com/search/solr.aspx?dataSource=article&handleSearch=true&page=78&q=S%26P+500&source=isesitbut0000001\n",
      "http://www.fool.com/search/solr.aspx?dataSource=article&handleSearch=true&page=79&q=S%26P+500&source=isesitbut0000001\n",
      "http://www.fool.com/search/solr.aspx?dataSource=article&handleSearch=true&page=80&q=S%26P+500&source=isesitbut0000001\n",
      "http://www.fool.com/search/solr.aspx?dataSource=article&handleSearch=true&page=81&q=S%26P+500&source=isesitbut0000001\n",
      "Yes\n",
      "Yes\n",
      "Yes\n",
      "Yes\n",
      "Yes\n",
      "http://www.fool.com/search/solr.aspx?dataSource=article&handleSearch=true&page=82&q=S%26P+500&source=isesitbut0000001\n",
      "Yes\n",
      "Yes\n",
      "http://www.fool.com/search/solr.aspx?dataSource=article&handleSearch=true&page=83&q=S%26P+500&source=isesitbut0000001\n",
      "http://www.fool.com/search/solr.aspx?dataSource=article&handleSearch=true&page=84&q=S%26P+500&source=isesitbut0000001\n",
      "http://www.fool.com/search/solr.aspx?dataSource=article&handleSearch=true&page=85&q=S%26P+500&source=isesitbut0000001\n",
      "http://www.fool.com/search/solr.aspx?dataSource=article&handleSearch=true&page=86&q=S%26P+500&source=isesitbut0000001\n",
      "http://www.fool.com/search/solr.aspx?dataSource=article&handleSearch=true&page=87&q=S%26P+500&source=isesitbut0000001\n",
      "Yes\n",
      "Yes\n",
      "http://www.fool.com/search/solr.aspx?dataSource=article&handleSearch=true&page=88&q=S%26P+500&source=isesitbut0000001\n",
      "http://www.fool.com/search/solr.aspx?dataSource=article&handleSearch=true&page=89&q=S%26P+500&source=isesitbut0000001\n",
      "http://www.fool.com/search/solr.aspx?dataSource=article&handleSearch=true&page=90&q=S%26P+500&source=isesitbut0000001\n",
      "http://www.fool.com/search/solr.aspx?dataSource=article&handleSearch=true&page=91&q=S%26P+500&source=isesitbut0000001\n",
      "http://www.fool.com/search/solr.aspx?dataSource=article&handleSearch=true&page=92&q=S%26P+500&source=isesitbut0000001\n",
      "http://www.fool.com/search/solr.aspx?dataSource=article&handleSearch=true&page=93&q=S%26P+500&source=isesitbut0000001\n",
      "http://www.fool.com/search/solr.aspx?dataSource=article&handleSearch=true&page=94&q=S%26P+500&source=isesitbut0000001\n",
      "http://www.fool.com/search/solr.aspx?dataSource=article&handleSearch=true&page=95&q=S%26P+500&source=isesitbut0000001\n",
      "http://www.fool.com/search/solr.aspx?dataSource=article&handleSearch=true&page=96&q=S%26P+500&source=isesitbut0000001\n",
      "http://www.fool.com/search/solr.aspx?dataSource=article&handleSearch=true&page=97&q=S%26P+500&source=isesitbut0000001\n",
      "http://www.fool.com/search/solr.aspx?dataSource=article&handleSearch=true&page=98&q=S%26P+500&source=isesitbut0000001\n",
      "http://www.fool.com/search/solr.aspx?dataSource=article&handleSearch=true&page=99&q=S%26P+500&source=isesitbut0000001\n",
      "http://www.fool.com/search/solr.aspx?dataSource=article&handleSearch=true&page=100&q=S%26P+500&source=isesitbut0000001\n",
      "http://www.fool.com/search/solr.aspx?dataSource=article&handleSearch=true&page=101&q=S%26P+500&source=isesitbut0000001\n",
      "http://www.fool.com/search/solr.aspx?dataSource=article&handleSearch=true&page=102&q=S%26P+500&source=isesitbut0000001\n",
      "http://www.fool.com/search/solr.aspx?dataSource=article&handleSearch=true&page=103&q=S%26P+500&source=isesitbut0000001\n",
      "http://www.fool.com/search/solr.aspx?dataSource=article&handleSearch=true&page=104&q=S%26P+500&source=isesitbut0000001\n",
      "http://www.fool.com/search/solr.aspx?dataSource=article&handleSearch=true&page=105&q=S%26P+500&source=isesitbut0000001\n",
      "http://www.fool.com/search/solr.aspx?dataSource=article&handleSearch=true&page=106&q=S%26P+500&source=isesitbut0000001\n",
      "http://www.fool.com/search/solr.aspx?dataSource=article&handleSearch=true&page=107&q=S%26P+500&source=isesitbut0000001\n",
      "http://www.fool.com/search/solr.aspx?dataSource=article&handleSearch=true&page=108&q=S%26P+500&source=isesitbut0000001\n",
      "http://www.fool.com/search/solr.aspx?dataSource=article&handleSearch=true&page=109&q=S%26P+500&source=isesitbut0000001\n",
      "http://www.fool.com/search/solr.aspx?dataSource=article&handleSearch=true&page=110&q=S%26P+500&source=isesitbut0000001\n",
      "http://www.fool.com/search/solr.aspx?dataSource=article&handleSearch=true&page=111&q=S%26P+500&source=isesitbut0000001\n",
      "Yes\n",
      "http://www.fool.com/search/solr.aspx?dataSource=article&handleSearch=true&page=112&q=S%26P+500&source=isesitbut0000001\n",
      "http://www.fool.com/search/solr.aspx?dataSource=article&handleSearch=true&page=113&q=S%26P+500&source=isesitbut0000001\n",
      "http://www.fool.com/search/solr.aspx?dataSource=article&handleSearch=true&page=114&q=S%26P+500&source=isesitbut0000001\n",
      "http://www.fool.com/search/solr.aspx?dataSource=article&handleSearch=true&page=115&q=S%26P+500&source=isesitbut0000001\n",
      "http://www.fool.com/search/solr.aspx?dataSource=article&handleSearch=true&page=116&q=S%26P+500&source=isesitbut0000001\n",
      "http://www.fool.com/search/solr.aspx?dataSource=article&handleSearch=true&page=117&q=S%26P+500&source=isesitbut0000001\n",
      "http://www.fool.com/search/solr.aspx?dataSource=article&handleSearch=true&page=118&q=S%26P+500&source=isesitbut0000001\n",
      "http://www.fool.com/search/solr.aspx?dataSource=article&handleSearch=true&page=119&q=S%26P+500&source=isesitbut0000001\n",
      "http://www.fool.com/search/solr.aspx?dataSource=article&handleSearch=true&page=120&q=S%26P+500&source=isesitbut0000001\n",
      "http://www.fool.com/search/solr.aspx?dataSource=article&handleSearch=true&page=121&q=S%26P+500&source=isesitbut0000001\n",
      "http://www.fool.com/search/solr.aspx?dataSource=article&handleSearch=true&page=122&q=S%26P+500&source=isesitbut0000001\n",
      "http://www.fool.com/search/solr.aspx?dataSource=article&handleSearch=true&page=123&q=S%26P+500&source=isesitbut0000001\n",
      "http://www.fool.com/search/solr.aspx?dataSource=article&handleSearch=true&page=124&q=S%26P+500&source=isesitbut0000001\n",
      "http://www.fool.com/search/solr.aspx?dataSource=article&handleSearch=true&page=125&q=S%26P+500&source=isesitbut0000001\n",
      "Yes\n",
      "http://www.fool.com/search/solr.aspx?dataSource=article&handleSearch=true&page=126&q=S%26P+500&source=isesitbut0000001\n",
      "http://www.fool.com/search/solr.aspx?dataSource=article&handleSearch=true&page=127&q=S%26P+500&source=isesitbut0000001\n",
      "http://www.fool.com/search/solr.aspx?dataSource=article&handleSearch=true&page=128&q=S%26P+500&source=isesitbut0000001\n",
      "http://www.fool.com/search/solr.aspx?dataSource=article&handleSearch=true&page=129&q=S%26P+500&source=isesitbut0000001\n",
      "http://www.fool.com/search/solr.aspx?dataSource=article&handleSearch=true&page=130&q=S%26P+500&source=isesitbut0000001\n",
      "http://www.fool.com/search/solr.aspx?dataSource=article&handleSearch=true&page=131&q=S%26P+500&source=isesitbut0000001\n",
      "http://www.fool.com/search/solr.aspx?dataSource=article&handleSearch=true&page=132&q=S%26P+500&source=isesitbut0000001\n",
      "http://www.fool.com/search/solr.aspx?dataSource=article&handleSearch=true&page=133&q=S%26P+500&source=isesitbut0000001\n",
      "http://www.fool.com/search/solr.aspx?dataSource=article&handleSearch=true&page=134&q=S%26P+500&source=isesitbut0000001\n",
      "http://www.fool.com/search/solr.aspx?dataSource=article&handleSearch=true&page=135&q=S%26P+500&source=isesitbut0000001\n",
      "http://www.fool.com/search/solr.aspx?dataSource=article&handleSearch=true&page=136&q=S%26P+500&source=isesitbut0000001\n",
      "http://www.fool.com/search/solr.aspx?dataSource=article&handleSearch=true&page=137&q=S%26P+500&source=isesitbut0000001\n"
     ]
    },
    {
     "name": "stdout",
     "output_type": "stream",
     "text": [
      "http://www.fool.com/search/solr.aspx?dataSource=article&handleSearch=true&page=138&q=S%26P+500&source=isesitbut0000001\n",
      "http://www.fool.com/search/solr.aspx?dataSource=article&handleSearch=true&page=139&q=S%26P+500&source=isesitbut0000001\n",
      "http://www.fool.com/search/solr.aspx?dataSource=article&handleSearch=true&page=140&q=S%26P+500&source=isesitbut0000001\n",
      "http://www.fool.com/search/solr.aspx?dataSource=article&handleSearch=true&page=141&q=S%26P+500&source=isesitbut0000001\n",
      "http://www.fool.com/search/solr.aspx?dataSource=article&handleSearch=true&page=142&q=S%26P+500&source=isesitbut0000001\n",
      "http://www.fool.com/search/solr.aspx?dataSource=article&handleSearch=true&page=143&q=S%26P+500&source=isesitbut0000001\n",
      "Yes\n",
      "http://www.fool.com/search/solr.aspx?dataSource=article&handleSearch=true&page=144&q=S%26P+500&source=isesitbut0000001\n",
      "Yes\n",
      "http://www.fool.com/search/solr.aspx?dataSource=article&handleSearch=true&page=145&q=S%26P+500&source=isesitbut0000001\n",
      "http://www.fool.com/search/solr.aspx?dataSource=article&handleSearch=true&page=146&q=S%26P+500&source=isesitbut0000001\n",
      "http://www.fool.com/search/solr.aspx?dataSource=article&handleSearch=true&page=147&q=S%26P+500&source=isesitbut0000001\n",
      "http://www.fool.com/search/solr.aspx?dataSource=article&handleSearch=true&page=148&q=S%26P+500&source=isesitbut0000001\n",
      "http://www.fool.com/search/solr.aspx?dataSource=article&handleSearch=true&page=149&q=S%26P+500&source=isesitbut0000001\n",
      "http://www.fool.com/search/solr.aspx?dataSource=article&handleSearch=true&page=150&q=S%26P+500&source=isesitbut0000001\n",
      "http://www.fool.com/search/solr.aspx?dataSource=article&handleSearch=true&page=151&q=S%26P+500&source=isesitbut0000001\n",
      "http://www.fool.com/search/solr.aspx?dataSource=article&handleSearch=true&page=152&q=S%26P+500&source=isesitbut0000001\n",
      "http://www.fool.com/search/solr.aspx?dataSource=article&handleSearch=true&page=153&q=S%26P+500&source=isesitbut0000001\n",
      "Yes\n",
      "http://www.fool.com/search/solr.aspx?dataSource=article&handleSearch=true&page=154&q=S%26P+500&source=isesitbut0000001\n",
      "http://www.fool.com/search/solr.aspx?dataSource=article&handleSearch=true&page=155&q=S%26P+500&source=isesitbut0000001\n",
      "http://www.fool.com/search/solr.aspx?dataSource=article&handleSearch=true&page=156&q=S%26P+500&source=isesitbut0000001\n",
      "http://www.fool.com/search/solr.aspx?dataSource=article&handleSearch=true&page=157&q=S%26P+500&source=isesitbut0000001\n",
      "http://www.fool.com/search/solr.aspx?dataSource=article&handleSearch=true&page=158&q=S%26P+500&source=isesitbut0000001\n",
      "http://www.fool.com/search/solr.aspx?dataSource=article&handleSearch=true&page=159&q=S%26P+500&source=isesitbut0000001\n",
      "http://www.fool.com/search/solr.aspx?dataSource=article&handleSearch=true&page=160&q=S%26P+500&source=isesitbut0000001\n",
      "http://www.fool.com/search/solr.aspx?dataSource=article&handleSearch=true&page=161&q=S%26P+500&source=isesitbut0000001\n",
      "http://www.fool.com/search/solr.aspx?dataSource=article&handleSearch=true&page=162&q=S%26P+500&source=isesitbut0000001\n",
      "http://www.fool.com/search/solr.aspx?dataSource=article&handleSearch=true&page=163&q=S%26P+500&source=isesitbut0000001\n",
      "http://www.fool.com/search/solr.aspx?dataSource=article&handleSearch=true&page=164&q=S%26P+500&source=isesitbut0000001\n",
      "http://www.fool.com/search/solr.aspx?dataSource=article&handleSearch=true&page=165&q=S%26P+500&source=isesitbut0000001\n",
      "http://www.fool.com/search/solr.aspx?dataSource=article&handleSearch=true&page=166&q=S%26P+500&source=isesitbut0000001\n",
      "Yes\n",
      "http://www.fool.com/search/solr.aspx?dataSource=article&handleSearch=true&page=167&q=S%26P+500&source=isesitbut0000001\n",
      "Yes\n",
      "http://www.fool.com/search/solr.aspx?dataSource=article&handleSearch=true&page=168&q=S%26P+500&source=isesitbut0000001\n",
      "Yes\n",
      "http://www.fool.com/search/solr.aspx?dataSource=article&handleSearch=true&page=169&q=S%26P+500&source=isesitbut0000001\n",
      "http://www.fool.com/search/solr.aspx?dataSource=article&handleSearch=true&page=170&q=S%26P+500&source=isesitbut0000001\n",
      "http://www.fool.com/search/solr.aspx?dataSource=article&handleSearch=true&page=171&q=S%26P+500&source=isesitbut0000001\n",
      "http://www.fool.com/search/solr.aspx?dataSource=article&handleSearch=true&page=172&q=S%26P+500&source=isesitbut0000001\n",
      "http://www.fool.com/search/solr.aspx?dataSource=article&handleSearch=true&page=173&q=S%26P+500&source=isesitbut0000001\n",
      "http://www.fool.com/search/solr.aspx?dataSource=article&handleSearch=true&page=174&q=S%26P+500&source=isesitbut0000001\n",
      "http://www.fool.com/search/solr.aspx?dataSource=article&handleSearch=true&page=175&q=S%26P+500&source=isesitbut0000001\n",
      "http://www.fool.com/search/solr.aspx?dataSource=article&handleSearch=true&page=176&q=S%26P+500&source=isesitbut0000001\n",
      "http://www.fool.com/search/solr.aspx?dataSource=article&handleSearch=true&page=177&q=S%26P+500&source=isesitbut0000001\n",
      "http://www.fool.com/search/solr.aspx?dataSource=article&handleSearch=true&page=178&q=S%26P+500&source=isesitbut0000001\n",
      "http://www.fool.com/search/solr.aspx?dataSource=article&handleSearch=true&page=179&q=S%26P+500&source=isesitbut0000001\n",
      "http://www.fool.com/search/solr.aspx?dataSource=article&handleSearch=true&page=180&q=S%26P+500&source=isesitbut0000001\n",
      "http://www.fool.com/search/solr.aspx?dataSource=article&handleSearch=true&page=181&q=S%26P+500&source=isesitbut0000001\n",
      "http://www.fool.com/search/solr.aspx?dataSource=article&handleSearch=true&page=182&q=S%26P+500&source=isesitbut0000001\n",
      "http://www.fool.com/search/solr.aspx?dataSource=article&handleSearch=true&page=183&q=S%26P+500&source=isesitbut0000001\n",
      "Yes\n",
      "http://www.fool.com/search/solr.aspx?dataSource=article&handleSearch=true&page=184&q=S%26P+500&source=isesitbut0000001\n",
      "http://www.fool.com/search/solr.aspx?dataSource=article&handleSearch=true&page=185&q=S%26P+500&source=isesitbut0000001\n",
      "http://www.fool.com/search/solr.aspx?dataSource=article&handleSearch=true&page=186&q=S%26P+500&source=isesitbut0000001\n",
      "http://www.fool.com/search/solr.aspx?dataSource=article&handleSearch=true&page=187&q=S%26P+500&source=isesitbut0000001\n",
      "http://www.fool.com/search/solr.aspx?dataSource=article&handleSearch=true&page=188&q=S%26P+500&source=isesitbut0000001\n",
      "Yes\n",
      "http://www.fool.com/search/solr.aspx?dataSource=article&handleSearch=true&page=189&q=S%26P+500&source=isesitbut0000001\n",
      "Yes\n",
      "http://www.fool.com/search/solr.aspx?dataSource=article&handleSearch=true&page=190&q=S%26P+500&source=isesitbut0000001\n",
      "Yes\n",
      "Yes\n",
      "http://www.fool.com/search/solr.aspx?dataSource=article&handleSearch=true&page=191&q=S%26P+500&source=isesitbut0000001\n",
      "Yes\n",
      "http://www.fool.com/search/solr.aspx?dataSource=article&handleSearch=true&page=192&q=S%26P+500&source=isesitbut0000001\n",
      "http://www.fool.com/search/solr.aspx?dataSource=article&handleSearch=true&page=193&q=S%26P+500&source=isesitbut0000001\n",
      "http://www.fool.com/search/solr.aspx?dataSource=article&handleSearch=true&page=194&q=S%26P+500&source=isesitbut0000001\n",
      "Yes\n",
      "http://www.fool.com/search/solr.aspx?dataSource=article&handleSearch=true&page=195&q=S%26P+500&source=isesitbut0000001\n",
      "Yes\n",
      "http://www.fool.com/search/solr.aspx?dataSource=article&handleSearch=true&page=196&q=S%26P+500&source=isesitbut0000001\n",
      "Yes\n",
      "http://www.fool.com/search/solr.aspx?dataSource=article&handleSearch=true&page=197&q=S%26P+500&source=isesitbut0000001\n",
      "Yes\n",
      "http://www.fool.com/search/solr.aspx?dataSource=article&handleSearch=true&page=198&q=S%26P+500&source=isesitbut0000001\n",
      "Yes\n",
      "Yes\n",
      "http://www.fool.com/search/solr.aspx?dataSource=article&handleSearch=true&page=199&q=S%26P+500&source=isesitbut0000001\n",
      "Yes\n",
      "Yes\n",
      "Yes\n",
      "http://www.fool.com/search/solr.aspx?dataSource=article&handleSearch=true&page=200&q=S%26P+500&source=isesitbut0000001\n",
      "Yes\n",
      "http://www.fool.com/search/solr.aspx?dataSource=article&handleSearch=true&page=201&q=S%26P+500&source=isesitbut0000001\n",
      "Yes\n",
      "Yes\n",
      "Yes\n",
      "http://www.fool.com/search/solr.aspx?dataSource=article&handleSearch=true&page=202&q=S%26P+500&source=isesitbut0000001\n",
      "Yes\n",
      "Yes\n",
      "http://www.fool.com/search/solr.aspx?dataSource=article&handleSearch=true&page=203&q=S%26P+500&source=isesitbut0000001\n",
      "http://www.fool.com/search/solr.aspx?dataSource=article&handleSearch=true&page=204&q=S%26P+500&source=isesitbut0000001\n",
      "Yes\n",
      "http://www.fool.com/search/solr.aspx?dataSource=article&handleSearch=true&page=205&q=S%26P+500&source=isesitbut0000001\n"
     ]
    },
    {
     "name": "stdout",
     "output_type": "stream",
     "text": [
      "http://www.fool.com/search/solr.aspx?dataSource=article&handleSearch=true&page=206&q=S%26P+500&source=isesitbut0000001\n",
      "Yes\n",
      "http://www.fool.com/search/solr.aspx?dataSource=article&handleSearch=true&page=207&q=S%26P+500&source=isesitbut0000001\n",
      "Yes\n",
      "http://www.fool.com/search/solr.aspx?dataSource=article&handleSearch=true&page=208&q=S%26P+500&source=isesitbut0000001\n",
      "Yes\n",
      "Yes\n",
      "http://www.fool.com/search/solr.aspx?dataSource=article&handleSearch=true&page=209&q=S%26P+500&source=isesitbut0000001\n",
      "Yes\n",
      "Yes\n",
      "Yes\n",
      "http://www.fool.com/search/solr.aspx?dataSource=article&handleSearch=true&page=210&q=S%26P+500&source=isesitbut0000001\n",
      "Yes\n",
      "http://www.fool.com/search/solr.aspx?dataSource=article&handleSearch=true&page=211&q=S%26P+500&source=isesitbut0000001\n",
      "Yes\n",
      "http://www.fool.com/search/solr.aspx?dataSource=article&handleSearch=true&page=212&q=S%26P+500&source=isesitbut0000001\n",
      "Yes\n",
      "Yes\n",
      "Yes\n",
      "Yes\n",
      "http://www.fool.com/search/solr.aspx?dataSource=article&handleSearch=true&page=213&q=S%26P+500&source=isesitbut0000001\n",
      "Yes\n",
      "Yes\n",
      "Yes\n",
      "Yes\n",
      "Yes\n",
      "Yes\n",
      "Yes\n",
      "http://www.fool.com/search/solr.aspx?dataSource=article&handleSearch=true&page=214&q=S%26P+500&source=isesitbut0000001\n",
      "Yes\n",
      "Yes\n",
      "Yes\n",
      "Yes\n",
      "Yes\n",
      "http://www.fool.com/search/solr.aspx?dataSource=article&handleSearch=true&page=215&q=S%26P+500&source=isesitbut0000001\n",
      "Yes\n",
      "Yes\n",
      "Yes\n",
      "http://www.fool.com/search/solr.aspx?dataSource=article&handleSearch=true&page=216&q=S%26P+500&source=isesitbut0000001\n",
      "Yes\n",
      "http://www.fool.com/search/solr.aspx?dataSource=article&handleSearch=true&page=217&q=S%26P+500&source=isesitbut0000001\n",
      "Yes\n",
      "Yes\n",
      "Yes\n",
      "Yes\n",
      "Yes\n",
      "Yes\n",
      "Yes\n",
      "http://www.fool.com/search/solr.aspx?dataSource=article&handleSearch=true&page=218&q=S%26P+500&source=isesitbut0000001\n",
      "Yes\n",
      "Yes\n",
      "http://www.fool.com/search/solr.aspx?dataSource=article&handleSearch=true&page=219&q=S%26P+500&source=isesitbut0000001\n",
      "Yes\n",
      "Yes\n",
      "Yes\n",
      "Yes\n",
      "Yes\n",
      "Yes\n",
      "Yes\n",
      "http://www.fool.com/search/solr.aspx?dataSource=article&handleSearch=true&page=220&q=S%26P+500&source=isesitbut0000001\n",
      "Yes\n",
      "Yes\n",
      "Yes\n",
      "Yes\n",
      "Yes\n",
      "Yes\n",
      "Yes\n",
      "Yes\n",
      "http://www.fool.com/search/solr.aspx?dataSource=article&handleSearch=true&page=221&q=S%26P+500&source=isesitbut0000001\n",
      "Yes\n",
      "Yes\n",
      "Yes\n",
      "Yes\n",
      "Yes\n",
      "Yes\n",
      "Yes\n",
      "http://www.fool.com/search/solr.aspx?dataSource=article&handleSearch=true&page=222&q=S%26P+500&source=isesitbut0000001\n",
      "Yes\n",
      "Yes\n",
      "Yes\n",
      "Yes\n",
      "Yes\n",
      "http://www.fool.com/search/solr.aspx?dataSource=article&handleSearch=true&page=223&q=S%26P+500&source=isesitbut0000001\n",
      "Yes\n",
      "Yes\n",
      "Yes\n",
      "Yes\n",
      "Yes\n",
      "Yes\n",
      "Yes\n",
      "Yes\n",
      "Yes\n",
      "http://www.fool.com/search/solr.aspx?dataSource=article&handleSearch=true&page=224&q=S%26P+500&source=isesitbut0000001\n",
      "Yes\n",
      "Yes\n",
      "Yes\n",
      "Yes\n",
      "Yes\n",
      "Yes\n",
      "Yes\n",
      "Yes\n",
      "Yes\n",
      "Yes\n",
      "http://www.fool.com/search/solr.aspx?dataSource=article&handleSearch=true&page=225&q=S%26P+500&source=isesitbut0000001\n",
      "Yes\n",
      "Yes\n",
      "Yes\n",
      "Yes\n",
      "Yes\n",
      "Yes\n",
      "Yes\n",
      "Yes\n",
      "Yes\n",
      "http://www.fool.com/search/solr.aspx?dataSource=article&handleSearch=true&page=226&q=S%26P+500&source=isesitbut0000001\n",
      "Yes\n",
      "Yes\n",
      "Yes\n",
      "Yes\n",
      "Yes\n",
      "Yes\n",
      "Yes\n",
      "Yes\n",
      "Yes\n",
      "http://www.fool.com/search/solr.aspx?dataSource=article&handleSearch=true&page=227&q=S%26P+500&source=isesitbut0000001\n",
      "Yes\n",
      "Yes\n",
      "Yes\n",
      "Yes\n",
      "Yes\n",
      "Yes\n",
      "Yes\n",
      "Yes\n",
      "Yes\n",
      "Yes\n",
      "http://www.fool.com/search/solr.aspx?dataSource=article&handleSearch=true&page=228&q=S%26P+500&source=isesitbut0000001\n",
      "Yes\n",
      "Yes\n",
      "Yes\n",
      "Yes\n",
      "Yes\n",
      "Yes\n",
      "Yes\n",
      "Yes\n",
      "Yes\n",
      "http://www.fool.com/search/solr.aspx?dataSource=article&handleSearch=true&page=229&q=S%26P+500&source=isesitbut0000001\n",
      "Yes\n",
      "Yes\n",
      "Yes\n",
      "Yes\n",
      "Yes\n",
      "Yes\n",
      "Yes\n",
      "Yes\n",
      "http://www.fool.com/search/solr.aspx?dataSource=article&handleSearch=true&page=230&q=S%26P+500&source=isesitbut0000001\n",
      "Yes\n",
      "Yes\n",
      "Yes\n",
      "Yes\n",
      "Yes\n",
      "Yes\n",
      "Yes\n",
      "Yes\n",
      "Yes\n",
      "Yes\n",
      "http://www.fool.com/search/solr.aspx?dataSource=article&handleSearch=true&page=231&q=S%26P+500&source=isesitbut0000001\n",
      "Yes\n",
      "Yes\n",
      "Yes\n",
      "Yes\n",
      "Yes\n",
      "Yes\n",
      "Yes\n",
      "Yes\n",
      "Yes\n",
      "http://www.fool.com/search/solr.aspx?dataSource=article&handleSearch=true&page=232&q=S%26P+500&source=isesitbut0000001\n",
      "Yes\n",
      "Yes\n",
      "Yes\n",
      "Yes\n",
      "Yes\n",
      "Yes\n",
      "Yes\n",
      "Yes\n",
      "Yes\n",
      "Yes\n",
      "http://www.fool.com/search/solr.aspx?dataSource=article&handleSearch=true&page=233&q=S%26P+500&source=isesitbut0000001\n",
      "Yes\n",
      "Yes\n",
      "Yes\n",
      "Yes\n",
      "Yes\n",
      "Yes\n",
      "Yes\n",
      "Yes\n",
      "Yes\n",
      "Yes\n",
      "http://www.fool.com/search/solr.aspx?dataSource=article&handleSearch=true&page=234&q=S%26P+500&source=isesitbut0000001\n",
      "Yes\n",
      "Yes\n",
      "Yes\n",
      "Yes\n",
      "Yes\n",
      "Yes\n",
      "Yes\n",
      "Yes\n",
      "Yes\n",
      "http://www.fool.com/search/solr.aspx?dataSource=article&handleSearch=true&page=235&q=S%26P+500&source=isesitbut0000001\n",
      "Yes\n",
      "Yes\n",
      "Yes\n",
      "Yes\n",
      "Yes\n",
      "Yes\n",
      "Yes\n",
      "Yes\n",
      "Yes\n",
      "Yes\n",
      "http://www.fool.com/search/solr.aspx?dataSource=article&handleSearch=true&page=236&q=S%26P+500&source=isesitbut0000001\n",
      "Yes\n",
      "Yes\n",
      "Yes\n",
      "Yes\n",
      "Yes\n",
      "Yes\n",
      "Yes\n",
      "Yes\n",
      "Yes\n",
      "http://www.fool.com/search/solr.aspx?dataSource=article&handleSearch=true&page=237&q=S%26P+500&source=isesitbut0000001\n",
      "Yes\n",
      "Yes\n",
      "Yes\n",
      "Yes\n",
      "Yes\n",
      "Yes\n",
      "Yes\n",
      "Yes\n",
      "Yes\n",
      "Yes\n",
      "http://www.fool.com/search/solr.aspx?dataSource=article&handleSearch=true&page=238&q=S%26P+500&source=isesitbut0000001\n",
      "Yes\n",
      "Yes\n",
      "Yes\n",
      "Yes\n",
      "Yes\n",
      "Yes\n",
      "Yes\n",
      "Yes\n",
      "Yes\n",
      "Yes\n",
      "http://www.fool.com/search/solr.aspx?dataSource=article&handleSearch=true&page=239&q=S%26P+500&source=isesitbut0000001\n",
      "Yes\n",
      "Yes\n",
      "Yes\n",
      "Yes\n",
      "Yes\n",
      "Yes\n",
      "Yes\n",
      "Yes\n",
      "Yes\n",
      "http://www.fool.com/search/solr.aspx?dataSource=article&handleSearch=true&page=240&q=S%26P+500&source=isesitbut0000001\n",
      "Yes\n",
      "Yes\n",
      "Yes\n",
      "Yes\n",
      "Yes\n",
      "Yes\n",
      "Yes\n",
      "Yes\n",
      "http://www.fool.com/search/solr.aspx?dataSource=article&handleSearch=true&page=241&q=S%26P+500&source=isesitbut0000001\n",
      "Yes\n",
      "Yes\n",
      "Yes\n",
      "Yes\n",
      "Yes\n",
      "Yes\n",
      "Yes\n",
      "Yes\n",
      "Yes\n",
      "Yes\n",
      "http://www.fool.com/search/solr.aspx?dataSource=article&handleSearch=true&page=242&q=S%26P+500&source=isesitbut0000001\n",
      "Yes\n",
      "Yes\n",
      "Yes\n",
      "Yes\n",
      "Yes\n",
      "Yes\n",
      "Yes\n",
      "http://www.fool.com/search/solr.aspx?dataSource=article&handleSearch=true&page=243&q=S%26P+500&source=isesitbut0000001\n",
      "Yes\n",
      "Yes\n",
      "Yes\n",
      "Yes\n",
      "Yes\n",
      "Yes\n",
      "Yes\n",
      "Yes\n",
      "Yes\n",
      "Yes\n",
      "http://www.fool.com/search/solr.aspx?dataSource=article&handleSearch=true&page=244&q=S%26P+500&source=isesitbut0000001\n",
      "Yes\n",
      "Yes\n",
      "Yes\n",
      "Yes\n",
      "Yes\n",
      "Yes\n",
      "Yes\n",
      "Yes\n",
      "Yes\n",
      "http://www.fool.com/search/solr.aspx?dataSource=article&handleSearch=true&page=245&q=S%26P+500&source=isesitbut0000001\n",
      "Yes\n",
      "Yes\n",
      "Yes\n",
      "Yes\n",
      "Yes\n",
      "Yes\n",
      "Yes\n",
      "Yes\n",
      "Yes\n",
      "Yes\n",
      "http://www.fool.com/search/solr.aspx?dataSource=article&handleSearch=true&page=246&q=S%26P+500&source=isesitbut0000001\n",
      "Yes\n",
      "Yes\n",
      "Yes\n",
      "Yes\n",
      "Yes\n",
      "Yes\n",
      "Yes\n",
      "Yes\n",
      "Yes\n",
      "http://www.fool.com/search/solr.aspx?dataSource=article&handleSearch=true&page=247&q=S%26P+500&source=isesitbut0000001\n",
      "Yes\n",
      "Yes\n",
      "Yes\n",
      "Yes\n",
      "Yes\n",
      "Yes\n",
      "Yes\n",
      "Yes\n",
      "Yes\n",
      "Yes\n",
      "http://www.fool.com/search/solr.aspx?dataSource=article&handleSearch=true&page=248&q=S%26P+500&source=isesitbut0000001\n",
      "Yes\n",
      "Yes\n",
      "Yes\n",
      "Yes\n",
      "Yes\n",
      "Yes\n",
      "Yes\n",
      "Yes\n",
      "http://www.fool.com/search/solr.aspx?dataSource=article&handleSearch=true&page=249&q=S%26P+500&source=isesitbut0000001\n",
      "Yes\n",
      "Yes\n",
      "Yes\n",
      "Yes\n",
      "Yes\n",
      "Yes\n",
      "Yes\n",
      "Yes\n",
      "Yes\n",
      "http://www.fool.com/search/solr.aspx?dataSource=article&handleSearch=true&page=250&q=S%26P+500&source=isesitbut0000001\n",
      "Yes\n",
      "Yes\n",
      "Yes\n",
      "Yes\n",
      "Yes\n",
      "Yes\n",
      "Yes\n",
      "Yes\n",
      "http://www.fool.com/search/solr.aspx?dataSource=article&handleSearch=true&page=251&q=S%26P+500&source=isesitbut0000001\n",
      "Yes\n",
      "Yes\n",
      "Yes\n",
      "Yes\n",
      "Yes\n",
      "Yes\n",
      "Yes\n",
      "Yes\n",
      "Yes\n",
      "Yes\n",
      "http://www.fool.com/search/solr.aspx?dataSource=article&handleSearch=true&page=252&q=S%26P+500&source=isesitbut0000001\n",
      "Yes\n",
      "Yes\n",
      "Yes\n",
      "Yes\n",
      "Yes\n",
      "Yes\n",
      "Yes\n",
      "Yes\n",
      "Yes\n",
      "http://www.fool.com/search/solr.aspx?dataSource=article&handleSearch=true&page=253&q=S%26P+500&source=isesitbut0000001\n",
      "Yes\n",
      "Yes\n",
      "Yes\n",
      "Yes\n",
      "Yes\n",
      "Yes\n",
      "http://www.fool.com/search/solr.aspx?dataSource=article&handleSearch=true&page=254&q=S%26P+500&source=isesitbut0000001\n",
      "Yes\n",
      "Yes\n",
      "Yes\n",
      "Yes\n",
      "Yes\n",
      "Yes\n",
      "Yes\n",
      "Yes\n",
      "http://www.fool.com/search/solr.aspx?dataSource=article&handleSearch=true&page=255&q=S%26P+500&source=isesitbut0000001\n",
      "Yes\n",
      "Yes\n",
      "Yes\n",
      "Yes\n",
      "Yes\n",
      "Yes\n",
      "http://www.fool.com/search/solr.aspx?dataSource=article&handleSearch=true&page=256&q=S%26P+500&source=isesitbut0000001\n",
      "Yes\n",
      "Yes\n",
      "Yes\n",
      "Yes\n",
      "Yes\n",
      "Yes\n",
      "Yes\n",
      "Yes\n",
      "http://www.fool.com/search/solr.aspx?dataSource=article&handleSearch=true&page=257&q=S%26P+500&source=isesitbut0000001\n",
      "Yes\n",
      "Yes\n",
      "Yes\n",
      "Yes\n",
      "Yes\n",
      "Yes\n",
      "Yes\n",
      "Yes\n",
      "Yes\n",
      "Yes\n",
      "http://www.fool.com/search/solr.aspx?dataSource=article&handleSearch=true&page=258&q=S%26P+500&source=isesitbut0000001\n",
      "Yes\n",
      "Yes\n",
      "Yes\n",
      "Yes\n",
      "Yes\n",
      "Yes\n",
      "Yes\n",
      "Yes\n",
      "Yes\n",
      "Yes\n",
      "http://www.fool.com/search/solr.aspx?dataSource=article&handleSearch=true&page=259&q=S%26P+500&source=isesitbut0000001\n",
      "Yes\n",
      "Yes\n",
      "Yes\n",
      "Yes\n",
      "Yes\n",
      "Yes\n",
      "Yes\n",
      "Yes\n",
      "Yes\n",
      "Yes\n",
      "http://www.fool.com/search/solr.aspx?dataSource=article&handleSearch=true&page=260&q=S%26P+500&source=isesitbut0000001\n",
      "Yes\n",
      "Yes\n",
      "Yes\n",
      "Yes\n",
      "http://www.fool.com/search/solr.aspx?dataSource=article&handleSearch=true&page=261&q=S%26P+500&source=isesitbut0000001\n",
      "Finished\n"
     ]
    }
   ],
   "source": [
    "from html.parser import HTMLParser\n",
    "import requests\n",
    "from bs4 import BeautifulSoup\n",
    "from datetime import datetime\n",
    "from xlwt import Workbook\n",
    "\n",
    "url = \"http://www.fool.com/search/solr.aspx?q=S%26P+500&dataSource=article&handleSearch=true\"\n",
    "\n",
    "def crawler():\n",
    "    wb = Workbook()\n",
    "   \n",
    "    \n",
    "    # making the sheet\n",
    "    sheet = wb.add_sheet('Fool')\n",
    "    sheet.col(0).width = 10000\n",
    "    sheet.col(1).width = 3000\n",
    "    sheet.col(2).width = 12000\n",
    "    sheet.col(3).width = 5000\n",
    "\n",
    "    source_code = requests.get(url)\n",
    "    plain_text = source_code.text\n",
    "    soup = BeautifulSoup(plain_text, \"html.parser\")\n",
    "    total_page = int(soup.find('span', {'id': 'totalCount'}).text.replace(\",\", \"\")[:-2])\n",
    "    print(total_page)\n",
    "    i = 1\n",
    "    j = 1\n",
    "    sheet.write(0, 0, \"Url\")\n",
    "    sheet.write(0, 1, \"Date\")\n",
    "    sheet.write(0, 2, \"Text\")\n",
    "    sheet.write(0, 3, \"Title\")\n",
    "    \n",
    "    # main extracting code \n",
    "    while i <= total_page:\n",
    "        urls = \"http://www.fool.com/search/solr.aspx?dataSource=article&handleSearch=true&page={}&q=S%26P+500&source=isesitbut0000001\".format(\n",
    "            i)\n",
    "        print(urls)\n",
    "        if j > 500:           #code to just get max 500 values \n",
    "            break\n",
    "        source_code = requests.get(urls)\n",
    "        plain_text = source_code.text\n",
    "        soup = BeautifulSoup(plain_text, \"html.parser\")\n",
    "        divs = soup.findAll('dl', {'class': 'results'})\n",
    "        for div in divs:\n",
    "            # href = link.get('href')\n",
    "            titles = div.findAll('a', attrs={\"title\": \"Go to this article\"})\n",
    "            bodys = div.findAll('dd')\n",
    "            dates = div.findAll('span', {'class': 'date'})\n",
    "\n",
    "            body = [b for b in bodys if b.text.startswith(\"...\")]\n",
    "            for index in range(len(titles)):\n",
    "                if j > 500:\n",
    "                    break\n",
    "                date = dates[index].text.replace(\",\", \"\")\n",
    "                date = datetime.strptime(date, \"%B %d %Y\").date()\n",
    "                first_date = datetime.strptime(\"June 1 2015\", \"%B %d %Y\").date()\n",
    "                last_date = datetime.strptime(\"June 1 2017\", \"%B %d %Y\").date()\n",
    "                # print(type(first_date))\n",
    "                if (\"S&P 500\" in body[index].text.replace(\";\", \"\") or \"S&P 500\" in titles[index].text.replace(\";\",\n",
    "                                                                                                              \"\")) and (\n",
    "                                first_date < date < last_date):\n",
    "                    link = titles[index].get('href')\n",
    "                    print(\"Yes\")\n",
    "                    source_code = requests.get(link)\n",
    "                    plain_text = source_code.text\n",
    "                    soup = BeautifulSoup(plain_text, \"html.parser\")\n",
    "                    content = soup.find('span', {'class': 'article-content'})\n",
    "                    # print(content.text)\n",
    "                    n = link.find('aspx') + 4\n",
    "                    link = link[0:n]\n",
    "                    sheet.write(j, 0, link)\n",
    "                    sheet.write(j, 1, str(date))\n",
    "                    if content:\n",
    "                        sheet.write(j, 2, str(content.text))\n",
    "                    else:\n",
    "                        sheet.write(j, 2, \"\")\n",
    "                    sheet.write(j, 3, str(titles[index].text))\n",
    "                    j += 1\n",
    "        i += 1\n",
    "    wb.save('motleyfool_webscrape.xls')\n",
    "\n",
    "\n",
    "if __name__ == \"__main__\":\n",
    "    crawler()\n",
    "    print(\"Finished\")\n"
   ]
  },
  {
   "cell_type": "markdown",
   "metadata": {},
   "source": [
    "Describe the dataset in words (you could write a short paragraph, describe the columns, create a data dictionary, etc. but do not include descriptive statistics here)"
   ]
  },
  {
   "cell_type": "code",
   "execution_count": 574,
   "metadata": {
    "collapsed": true
   },
   "outputs": [],
   "source": [
    "# First Dataset: It is the S&P 500 articles written from www.fool.com for each date, from 1 June 2015 to 1 June 2017"
   ]
  },
  {
   "cell_type": "code",
   "execution_count": 498,
   "metadata": {},
   "outputs": [],
   "source": [
    "motleyfool_data = pd.read_csv('save_Projectdssg04_new.csv', encoding='latin1', skipinitialspace=True) "
   ]
  },
  {
   "cell_type": "code",
   "execution_count": 499,
   "metadata": {},
   "outputs": [
    {
     "data": {
      "text/html": [
       "<div>\n",
       "<style>\n",
       "    .dataframe thead tr:only-child th {\n",
       "        text-align: right;\n",
       "    }\n",
       "\n",
       "    .dataframe thead th {\n",
       "        text-align: left;\n",
       "    }\n",
       "\n",
       "    .dataframe tbody tr th {\n",
       "        vertical-align: top;\n",
       "    }\n",
       "</style>\n",
       "<table border=\"1\" class=\"dataframe\">\n",
       "  <thead>\n",
       "    <tr style=\"text-align: right;\">\n",
       "      <th></th>\n",
       "      <th>Url</th>\n",
       "      <th>Date</th>\n",
       "      <th>Text</th>\n",
       "      <th>Title</th>\n",
       "    </tr>\n",
       "  </thead>\n",
       "  <tbody>\n",
       "    <tr>\n",
       "      <th>0</th>\n",
       "      <td>http://www.fool.com/knowledge-center/what-is-t...</td>\n",
       "      <td>2016-06-22</td>\n",
       "      <td>\\n\\nImage source: Getty Images.\\nThe S&amp;P 500 i...</td>\n",
       "      <td>What Is the S&amp;P; 500?</td>\n",
       "    </tr>\n",
       "    <tr>\n",
       "      <th>1</th>\n",
       "      <td>http://www.fool.com/knowledge-center/what-is-t...</td>\n",
       "      <td>2016-06-22</td>\n",
       "      <td>\\n\\nImage source: Getty Images.\\nThe S&amp;P 500 i...</td>\n",
       "      <td>What Is the S&amp;P; 500?</td>\n",
       "    </tr>\n",
       "    <tr>\n",
       "      <th>2</th>\n",
       "      <td>http://www.fool.com/retirement/2017/05/10/the-...</td>\n",
       "      <td>2017-05-10</td>\n",
       "      <td>\\nIf you want your portfolio to grow with Amer...</td>\n",
       "      <td>The 3 Best S&amp;P; 500 Index Funds</td>\n",
       "    </tr>\n",
       "    <tr>\n",
       "      <th>3</th>\n",
       "      <td>http://www.fool.com/retirement/2017/01/01/the-...</td>\n",
       "      <td>2017-01-01</td>\n",
       "      <td>\\nThe S&amp;P 500 (SNPINDEX:^GSPC) had a strong pe...</td>\n",
       "      <td>The S&amp;P; 500's Worst Day in 2016</td>\n",
       "    </tr>\n",
       "    <tr>\n",
       "      <th>4</th>\n",
       "      <td>http://www.fool.com/investing/2016/12/30/the-s...</td>\n",
       "      <td>2016-12-30</td>\n",
       "      <td>\\nThe S&amp;P 500 (SNPINDEX:^GSPC) did well in 201...</td>\n",
       "      <td>The S&amp;P; 500's Best Day in 2016</td>\n",
       "    </tr>\n",
       "  </tbody>\n",
       "</table>\n",
       "</div>"
      ],
      "text/plain": [
       "                                                 Url        Date  \\\n",
       "0  http://www.fool.com/knowledge-center/what-is-t...  2016-06-22   \n",
       "1  http://www.fool.com/knowledge-center/what-is-t...  2016-06-22   \n",
       "2  http://www.fool.com/retirement/2017/05/10/the-...  2017-05-10   \n",
       "3  http://www.fool.com/retirement/2017/01/01/the-...  2017-01-01   \n",
       "4  http://www.fool.com/investing/2016/12/30/the-s...  2016-12-30   \n",
       "\n",
       "                                                Text  \\\n",
       "0  \\n\\nImage source: Getty Images.\\nThe S&P 500 i...   \n",
       "1  \\n\\nImage source: Getty Images.\\nThe S&P 500 i...   \n",
       "2  \\nIf you want your portfolio to grow with Amer...   \n",
       "3  \\nThe S&P 500 (SNPINDEX:^GSPC) had a strong pe...   \n",
       "4  \\nThe S&P 500 (SNPINDEX:^GSPC) did well in 201...   \n",
       "\n",
       "                              Title  \n",
       "0             What Is the S&P; 500?  \n",
       "1             What Is the S&P; 500?  \n",
       "2   The 3 Best S&P; 500 Index Funds  \n",
       "3  The S&P; 500's Worst Day in 2016  \n",
       "4   The S&P; 500's Best Day in 2016  "
      ]
     },
     "execution_count": 499,
     "metadata": {},
     "output_type": "execute_result"
    }
   ],
   "source": [
    "motleyfool_data.head()"
   ]
  },
  {
   "cell_type": "code",
   "execution_count": 500,
   "metadata": {
    "collapsed": true
   },
   "outputs": [],
   "source": [
    "# Each row in the dataset represents one article, with the information on its Date, the article text, and the title.  "
   ]
  },
  {
   "cell_type": "code",
   "execution_count": 501,
   "metadata": {},
   "outputs": [],
   "source": [
    "motleyfool_dateonly = pd.DataFrame(motleyfool_data[\"Date\"])"
   ]
  },
  {
   "cell_type": "code",
   "execution_count": 502,
   "metadata": {},
   "outputs": [],
   "source": [
    "motleyfool_dateonly['motleyfool_articles'] = motleyfool_data.groupby('Date')['Date'].transform('count')"
   ]
  },
  {
   "cell_type": "code",
   "execution_count": 503,
   "metadata": {},
   "outputs": [],
   "source": [
    "motleyfool_dateonly = motleyfool_dateonly.sort_values(\"Date\", ascending=False)"
   ]
  },
  {
   "cell_type": "code",
   "execution_count": 504,
   "metadata": {},
   "outputs": [],
   "source": [
    "motleyfool_dateonly = motleyfool_dateonly.drop_duplicates(['Date'])"
   ]
  },
  {
   "cell_type": "code",
   "execution_count": 505,
   "metadata": {},
   "outputs": [],
   "source": [
    "motleyfool_dateonly['Date'] =  pd.to_datetime(motleyfool_dateonly['Date'], format='%Y/%m/%d')"
   ]
  },
  {
   "cell_type": "code",
   "execution_count": 506,
   "metadata": {},
   "outputs": [
    {
     "data": {
      "text/html": [
       "<div>\n",
       "<style>\n",
       "    .dataframe thead tr:only-child th {\n",
       "        text-align: right;\n",
       "    }\n",
       "\n",
       "    .dataframe thead th {\n",
       "        text-align: left;\n",
       "    }\n",
       "\n",
       "    .dataframe tbody tr th {\n",
       "        vertical-align: top;\n",
       "    }\n",
       "</style>\n",
       "<table border=\"1\" class=\"dataframe\">\n",
       "  <thead>\n",
       "    <tr style=\"text-align: right;\">\n",
       "      <th></th>\n",
       "      <th>Date</th>\n",
       "      <th>motleyfool_articles</th>\n",
       "    </tr>\n",
       "  </thead>\n",
       "  <tbody>\n",
       "    <tr>\n",
       "      <th>135</th>\n",
       "      <td>2017-05-31</td>\n",
       "      <td>16</td>\n",
       "    </tr>\n",
       "    <tr>\n",
       "      <th>87</th>\n",
       "      <td>2017-05-30</td>\n",
       "      <td>19</td>\n",
       "    </tr>\n",
       "    <tr>\n",
       "      <th>197</th>\n",
       "      <td>2017-05-29</td>\n",
       "      <td>9</td>\n",
       "    </tr>\n",
       "    <tr>\n",
       "      <th>114</th>\n",
       "      <td>2017-05-28</td>\n",
       "      <td>6</td>\n",
       "    </tr>\n",
       "    <tr>\n",
       "      <th>213</th>\n",
       "      <td>2017-05-27</td>\n",
       "      <td>16</td>\n",
       "    </tr>\n",
       "  </tbody>\n",
       "</table>\n",
       "</div>"
      ],
      "text/plain": [
       "          Date  motleyfool_articles\n",
       "135 2017-05-31                   16\n",
       "87  2017-05-30                   19\n",
       "197 2017-05-29                    9\n",
       "114 2017-05-28                    6\n",
       "213 2017-05-27                   16"
      ]
     },
     "execution_count": 506,
     "metadata": {},
     "output_type": "execute_result"
    }
   ],
   "source": [
    "motleyfool_dateonly.head()"
   ]
  },
  {
   "cell_type": "code",
   "execution_count": 507,
   "metadata": {
    "collapsed": true
   },
   "outputs": [],
   "source": [
    "# The formatted dataset from www.fool.com contains only the number of articles mentioning \"S&P 500\" for each date. "
   ]
  },
  {
   "cell_type": "markdown",
   "metadata": {},
   "source": [
    "Second Dataset: the S&P500 Index Price download"
   ]
  },
  {
   "cell_type": "code",
   "execution_count": 508,
   "metadata": {},
   "outputs": [],
   "source": [
    "SP500_price = pd.read_csv(\"SP500_price.csv\", sep = \",\")"
   ]
  },
  {
   "cell_type": "code",
   "execution_count": 509,
   "metadata": {
    "collapsed": true
   },
   "outputs": [],
   "source": [
    "SP500_price.columns = ['Date', 'SP500', 'Change']"
   ]
  },
  {
   "cell_type": "code",
   "execution_count": 510,
   "metadata": {},
   "outputs": [],
   "source": [
    "SP500_price['Date'] =  pd.to_datetime(SP500_price['Date'], format='%d/%m/%Y')"
   ]
  },
  {
   "cell_type": "code",
   "execution_count": 575,
   "metadata": {},
   "outputs": [
    {
     "data": {
      "text/html": [
       "<div>\n",
       "<style>\n",
       "    .dataframe thead tr:only-child th {\n",
       "        text-align: right;\n",
       "    }\n",
       "\n",
       "    .dataframe thead th {\n",
       "        text-align: left;\n",
       "    }\n",
       "\n",
       "    .dataframe tbody tr th {\n",
       "        vertical-align: top;\n",
       "    }\n",
       "</style>\n",
       "<table border=\"1\" class=\"dataframe\">\n",
       "  <thead>\n",
       "    <tr style=\"text-align: right;\">\n",
       "      <th></th>\n",
       "      <th>Date</th>\n",
       "      <th>SP500</th>\n",
       "      <th>Change</th>\n",
       "    </tr>\n",
       "  </thead>\n",
       "  <tbody>\n",
       "    <tr>\n",
       "      <th>0</th>\n",
       "      <td>2017-06-01</td>\n",
       "      <td>2430.06</td>\n",
       "      <td>Up</td>\n",
       "    </tr>\n",
       "    <tr>\n",
       "      <th>1</th>\n",
       "      <td>2017-05-31</td>\n",
       "      <td>2411.80</td>\n",
       "      <td>Down</td>\n",
       "    </tr>\n",
       "    <tr>\n",
       "      <th>2</th>\n",
       "      <td>2017-05-30</td>\n",
       "      <td>2412.91</td>\n",
       "      <td>Down</td>\n",
       "    </tr>\n",
       "    <tr>\n",
       "      <th>3</th>\n",
       "      <td>2017-05-26</td>\n",
       "      <td>2415.82</td>\n",
       "      <td>Up</td>\n",
       "    </tr>\n",
       "    <tr>\n",
       "      <th>4</th>\n",
       "      <td>2017-05-25</td>\n",
       "      <td>2415.07</td>\n",
       "      <td>Up</td>\n",
       "    </tr>\n",
       "  </tbody>\n",
       "</table>\n",
       "</div>"
      ],
      "text/plain": [
       "        Date    SP500 Change\n",
       "0 2017-06-01  2430.06     Up\n",
       "1 2017-05-31  2411.80   Down\n",
       "2 2017-05-30  2412.91   Down\n",
       "3 2017-05-26  2415.82     Up\n",
       "4 2017-05-25  2415.07     Up"
      ]
     },
     "execution_count": 575,
     "metadata": {},
     "output_type": "execute_result"
    }
   ],
   "source": [
    "SP500_price.head()"
   ]
  },
  {
   "cell_type": "code",
   "execution_count": null,
   "metadata": {
    "collapsed": true
   },
   "outputs": [],
   "source": [
    "# The dataset contains the prices of the S&P 500 for each date, and the change in the price from the previous day, up (increase) or down (decrease from previous day's closing price). "
   ]
  },
  {
   "cell_type": "markdown",
   "metadata": {},
   "source": [
    "Third Dataset: Stock prices of Facebook, Apple and Google"
   ]
  },
  {
   "cell_type": "code",
   "execution_count": 512,
   "metadata": {},
   "outputs": [],
   "source": [
    "aapl_fb_goog_prices = pd.read_csv(\"aapl_fb_goog_prices.csv\", sep = \",\")"
   ]
  },
  {
   "cell_type": "code",
   "execution_count": 513,
   "metadata": {},
   "outputs": [],
   "source": [
    "aapl_fb_goog_prices['Date'] =  pd.to_datetime(aapl_fb_goog_prices['Date'], format='%d/%m/%Y')"
   ]
  },
  {
   "cell_type": "code",
   "execution_count": 576,
   "metadata": {},
   "outputs": [
    {
     "data": {
      "text/html": [
       "<div>\n",
       "<style>\n",
       "    .dataframe thead tr:only-child th {\n",
       "        text-align: right;\n",
       "    }\n",
       "\n",
       "    .dataframe thead th {\n",
       "        text-align: left;\n",
       "    }\n",
       "\n",
       "    .dataframe tbody tr th {\n",
       "        vertical-align: top;\n",
       "    }\n",
       "</style>\n",
       "<table border=\"1\" class=\"dataframe\">\n",
       "  <thead>\n",
       "    <tr style=\"text-align: right;\">\n",
       "      <th></th>\n",
       "      <th>Date</th>\n",
       "      <th>FB</th>\n",
       "      <th>AAPL</th>\n",
       "      <th>GOOG</th>\n",
       "    </tr>\n",
       "  </thead>\n",
       "  <tbody>\n",
       "    <tr>\n",
       "      <th>0</th>\n",
       "      <td>2017-06-01</td>\n",
       "      <td>151.53</td>\n",
       "      <td>153.18</td>\n",
       "      <td>966.95</td>\n",
       "    </tr>\n",
       "    <tr>\n",
       "      <th>1</th>\n",
       "      <td>2017-05-31</td>\n",
       "      <td>151.46</td>\n",
       "      <td>152.76</td>\n",
       "      <td>964.86</td>\n",
       "    </tr>\n",
       "    <tr>\n",
       "      <th>2</th>\n",
       "      <td>2017-05-30</td>\n",
       "      <td>152.38</td>\n",
       "      <td>153.67</td>\n",
       "      <td>975.88</td>\n",
       "    </tr>\n",
       "    <tr>\n",
       "      <th>3</th>\n",
       "      <td>2017-05-26</td>\n",
       "      <td>152.13</td>\n",
       "      <td>153.61</td>\n",
       "      <td>971.47</td>\n",
       "    </tr>\n",
       "    <tr>\n",
       "      <th>4</th>\n",
       "      <td>2017-05-25</td>\n",
       "      <td>151.96</td>\n",
       "      <td>153.87</td>\n",
       "      <td>969.54</td>\n",
       "    </tr>\n",
       "  </tbody>\n",
       "</table>\n",
       "</div>"
      ],
      "text/plain": [
       "        Date      FB    AAPL    GOOG\n",
       "0 2017-06-01  151.53  153.18  966.95\n",
       "1 2017-05-31  151.46  152.76  964.86\n",
       "2 2017-05-30  152.38  153.67  975.88\n",
       "3 2017-05-26  152.13  153.61  971.47\n",
       "4 2017-05-25  151.96  153.87  969.54"
      ]
     },
     "execution_count": 576,
     "metadata": {},
     "output_type": "execute_result"
    }
   ],
   "source": [
    "aapl_fb_goog_prices.head()"
   ]
  },
  {
   "cell_type": "code",
   "execution_count": null,
   "metadata": {
    "collapsed": true
   },
   "outputs": [],
   "source": [
    "# Dataset is prices of Google, Apple and Facebook for each date"
   ]
  },
  {
   "cell_type": "markdown",
   "metadata": {},
   "source": [
    "## Risks and Assumptions"
   ]
  },
  {
   "cell_type": "markdown",
   "metadata": {},
   "source": [
    "Our asumption is that www.fool.com, an investment website, is broadly representative, and also widely visited, by investors. Our assumption is also that investors MAY base their investment decisions on the S&P 500 index, whenever there is a mention of the S&P 500 on an article the website and they read it. "
   ]
  },
  {
   "cell_type": "markdown",
   "metadata": {},
   "source": [
    "## Hypothesis"
   ]
  },
  {
   "cell_type": "code",
   "execution_count": 577,
   "metadata": {
    "collapsed": true
   },
   "outputs": [],
   "source": [
    "# Null hypothesis, $H_0$: Part 1: The investment articles on www.fool.com which mention the S&P 500 Index,\n",
    "# whenever they are published, have no bearing on whether the S&P 500 Index price goes up, on the same day.  \n",
    "#Part 2: The stock prices of Facebook, Google, and Apply have no bearing on the S&P 500 Price.   \n",
    "\n",
    "# Alternative hypothesis, $H_1$: Part 1: The investment articles on www.fool.com which mention the S&P 500 Index, \n",
    "# whenever they are published, actually cause the S&P 500 Index price to go up, on the same day. \n",
    "# Part 2: The stock prices of Facebook, Google, and Apple directly affect positively the S&P 500 Price."
   ]
  },
  {
   "cell_type": "markdown",
   "metadata": {},
   "source": [
    "## Success Metrics"
   ]
  },
  {
   "cell_type": "code",
   "execution_count": 578,
   "metadata": {
    "collapsed": true
   },
   "outputs": [],
   "source": [
    "# Either proving or disproving the null hypothesis is useful information, \n",
    "# as it can tell us whether the publication of articles on investment websites on an investment topic\n",
    "# of which an example is the \"S&P 500\" Index, can influence the price of the index. "
   ]
  },
  {
   "cell_type": "markdown",
   "metadata": {},
   "source": [
    "# Exploratory Data Analysis"
   ]
  },
  {
   "cell_type": "markdown",
   "metadata": {},
   "source": [
    "- Include visualizations, descriptive statistics, etc."
   ]
  },
  {
   "cell_type": "code",
   "execution_count": 515,
   "metadata": {},
   "outputs": [
    {
     "data": {
      "text/html": [
       "<div>\n",
       "<style>\n",
       "    .dataframe thead tr:only-child th {\n",
       "        text-align: right;\n",
       "    }\n",
       "\n",
       "    .dataframe thead th {\n",
       "        text-align: left;\n",
       "    }\n",
       "\n",
       "    .dataframe tbody tr th {\n",
       "        vertical-align: top;\n",
       "    }\n",
       "</style>\n",
       "<table border=\"1\" class=\"dataframe\">\n",
       "  <thead>\n",
       "    <tr style=\"text-align: right;\">\n",
       "      <th></th>\n",
       "      <th>Date</th>\n",
       "      <th>SP500</th>\n",
       "      <th>Change</th>\n",
       "      <th>motleyfool_articles</th>\n",
       "    </tr>\n",
       "  </thead>\n",
       "  <tbody>\n",
       "    <tr>\n",
       "      <th>0</th>\n",
       "      <td>2017-05-31</td>\n",
       "      <td>2411.80</td>\n",
       "      <td>Down</td>\n",
       "      <td>16</td>\n",
       "    </tr>\n",
       "    <tr>\n",
       "      <th>1</th>\n",
       "      <td>2017-05-30</td>\n",
       "      <td>2412.91</td>\n",
       "      <td>Down</td>\n",
       "      <td>19</td>\n",
       "    </tr>\n",
       "    <tr>\n",
       "      <th>2</th>\n",
       "      <td>2017-05-26</td>\n",
       "      <td>2415.82</td>\n",
       "      <td>Up</td>\n",
       "      <td>26</td>\n",
       "    </tr>\n",
       "    <tr>\n",
       "      <th>3</th>\n",
       "      <td>2017-05-25</td>\n",
       "      <td>2415.07</td>\n",
       "      <td>Up</td>\n",
       "      <td>16</td>\n",
       "    </tr>\n",
       "    <tr>\n",
       "      <th>4</th>\n",
       "      <td>2017-05-24</td>\n",
       "      <td>2404.39</td>\n",
       "      <td>Up</td>\n",
       "      <td>32</td>\n",
       "    </tr>\n",
       "  </tbody>\n",
       "</table>\n",
       "</div>"
      ],
      "text/plain": [
       "        Date    SP500 Change  motleyfool_articles\n",
       "0 2017-05-31  2411.80   Down                   16\n",
       "1 2017-05-30  2412.91   Down                   19\n",
       "2 2017-05-26  2415.82     Up                   26\n",
       "3 2017-05-25  2415.07     Up                   16\n",
       "4 2017-05-24  2404.39     Up                   32"
      ]
     },
     "execution_count": 515,
     "metadata": {},
     "output_type": "execute_result"
    }
   ],
   "source": [
    "combined_table = pd.merge(SP500_price, motleyfool_dateonly, on='Date')\n",
    "combined_table.head()"
   ]
  },
  {
   "cell_type": "code",
   "execution_count": 516,
   "metadata": {},
   "outputs": [
    {
     "data": {
      "text/html": [
       "<div>\n",
       "<style>\n",
       "    .dataframe thead tr:only-child th {\n",
       "        text-align: right;\n",
       "    }\n",
       "\n",
       "    .dataframe thead th {\n",
       "        text-align: left;\n",
       "    }\n",
       "\n",
       "    .dataframe tbody tr th {\n",
       "        vertical-align: top;\n",
       "    }\n",
       "</style>\n",
       "<table border=\"1\" class=\"dataframe\">\n",
       "  <thead>\n",
       "    <tr style=\"text-align: right;\">\n",
       "      <th></th>\n",
       "      <th>Date</th>\n",
       "      <th>SP500</th>\n",
       "      <th>Change</th>\n",
       "      <th>motleyfool_articles</th>\n",
       "      <th>FB</th>\n",
       "      <th>AAPL</th>\n",
       "      <th>GOOG</th>\n",
       "    </tr>\n",
       "  </thead>\n",
       "  <tbody>\n",
       "    <tr>\n",
       "      <th>0</th>\n",
       "      <td>2017-05-31</td>\n",
       "      <td>2411.80</td>\n",
       "      <td>Down</td>\n",
       "      <td>16</td>\n",
       "      <td>151.46</td>\n",
       "      <td>152.76</td>\n",
       "      <td>964.86</td>\n",
       "    </tr>\n",
       "    <tr>\n",
       "      <th>1</th>\n",
       "      <td>2017-05-30</td>\n",
       "      <td>2412.91</td>\n",
       "      <td>Down</td>\n",
       "      <td>19</td>\n",
       "      <td>152.38</td>\n",
       "      <td>153.67</td>\n",
       "      <td>975.88</td>\n",
       "    </tr>\n",
       "    <tr>\n",
       "      <th>2</th>\n",
       "      <td>2017-05-26</td>\n",
       "      <td>2415.82</td>\n",
       "      <td>Up</td>\n",
       "      <td>26</td>\n",
       "      <td>152.13</td>\n",
       "      <td>153.61</td>\n",
       "      <td>971.47</td>\n",
       "    </tr>\n",
       "    <tr>\n",
       "      <th>3</th>\n",
       "      <td>2017-05-25</td>\n",
       "      <td>2415.07</td>\n",
       "      <td>Up</td>\n",
       "      <td>16</td>\n",
       "      <td>151.96</td>\n",
       "      <td>153.87</td>\n",
       "      <td>969.54</td>\n",
       "    </tr>\n",
       "    <tr>\n",
       "      <th>4</th>\n",
       "      <td>2017-05-24</td>\n",
       "      <td>2404.39</td>\n",
       "      <td>Up</td>\n",
       "      <td>32</td>\n",
       "      <td>150.04</td>\n",
       "      <td>153.34</td>\n",
       "      <td>954.96</td>\n",
       "    </tr>\n",
       "  </tbody>\n",
       "</table>\n",
       "</div>"
      ],
      "text/plain": [
       "        Date    SP500 Change  motleyfool_articles      FB    AAPL    GOOG\n",
       "0 2017-05-31  2411.80   Down                   16  151.46  152.76  964.86\n",
       "1 2017-05-30  2412.91   Down                   19  152.38  153.67  975.88\n",
       "2 2017-05-26  2415.82     Up                   26  152.13  153.61  971.47\n",
       "3 2017-05-25  2415.07     Up                   16  151.96  153.87  969.54\n",
       "4 2017-05-24  2404.39     Up                   32  150.04  153.34  954.96"
      ]
     },
     "execution_count": 516,
     "metadata": {},
     "output_type": "execute_result"
    }
   ],
   "source": [
    "combined_table = pd.merge(combined_table, aapl_fb_goog_prices, on='Date')\n",
    "\n",
    "combined_table.head()"
   ]
  },
  {
   "cell_type": "code",
   "execution_count": 517,
   "metadata": {},
   "outputs": [
    {
     "data": {
      "text/html": [
       "<div>\n",
       "<style>\n",
       "    .dataframe thead tr:only-child th {\n",
       "        text-align: right;\n",
       "    }\n",
       "\n",
       "    .dataframe thead th {\n",
       "        text-align: left;\n",
       "    }\n",
       "\n",
       "    .dataframe tbody tr th {\n",
       "        vertical-align: top;\n",
       "    }\n",
       "</style>\n",
       "<table border=\"1\" class=\"dataframe\">\n",
       "  <thead>\n",
       "    <tr style=\"text-align: right;\">\n",
       "      <th></th>\n",
       "      <th>SP500</th>\n",
       "      <th>motleyfool_articles</th>\n",
       "      <th>FB</th>\n",
       "      <th>AAPL</th>\n",
       "      <th>GOOG</th>\n",
       "    </tr>\n",
       "  </thead>\n",
       "  <tbody>\n",
       "    <tr>\n",
       "      <th>count</th>\n",
       "      <td>90.000000</td>\n",
       "      <td>90.000000</td>\n",
       "      <td>90.000000</td>\n",
       "      <td>90.000000</td>\n",
       "      <td>90.000000</td>\n",
       "    </tr>\n",
       "    <tr>\n",
       "      <th>mean</th>\n",
       "      <td>2229.174111</td>\n",
       "      <td>4.533333</td>\n",
       "      <td>128.315889</td>\n",
       "      <td>127.560667</td>\n",
       "      <td>808.075222</td>\n",
       "    </tr>\n",
       "    <tr>\n",
       "      <th>std</th>\n",
       "      <td>172.061159</td>\n",
       "      <td>6.019071</td>\n",
       "      <td>20.061541</td>\n",
       "      <td>20.841900</td>\n",
       "      <td>98.326689</td>\n",
       "    </tr>\n",
       "    <tr>\n",
       "      <th>min</th>\n",
       "      <td>1851.860000</td>\n",
       "      <td>1.000000</td>\n",
       "      <td>89.430000</td>\n",
       "      <td>90.340000</td>\n",
       "      <td>614.340000</td>\n",
       "    </tr>\n",
       "    <tr>\n",
       "      <th>25%</th>\n",
       "      <td>2078.407500</td>\n",
       "      <td>1.000000</td>\n",
       "      <td>112.452500</td>\n",
       "      <td>110.242500</td>\n",
       "      <td>739.340000</td>\n",
       "    </tr>\n",
       "    <tr>\n",
       "      <th>50%</th>\n",
       "      <td>2313.185000</td>\n",
       "      <td>1.000000</td>\n",
       "      <td>132.210000</td>\n",
       "      <td>132.295000</td>\n",
       "      <td>816.705000</td>\n",
       "    </tr>\n",
       "    <tr>\n",
       "      <th>75%</th>\n",
       "      <td>2384.995000</td>\n",
       "      <td>7.000000</td>\n",
       "      <td>147.385000</td>\n",
       "      <td>144.427500</td>\n",
       "      <td>898.032500</td>\n",
       "    </tr>\n",
       "    <tr>\n",
       "      <th>max</th>\n",
       "      <td>2415.820000</td>\n",
       "      <td>32.000000</td>\n",
       "      <td>152.780000</td>\n",
       "      <td>156.100000</td>\n",
       "      <td>975.880000</td>\n",
       "    </tr>\n",
       "  </tbody>\n",
       "</table>\n",
       "</div>"
      ],
      "text/plain": [
       "             SP500  motleyfool_articles          FB        AAPL        GOOG\n",
       "count    90.000000            90.000000   90.000000   90.000000   90.000000\n",
       "mean   2229.174111             4.533333  128.315889  127.560667  808.075222\n",
       "std     172.061159             6.019071   20.061541   20.841900   98.326689\n",
       "min    1851.860000             1.000000   89.430000   90.340000  614.340000\n",
       "25%    2078.407500             1.000000  112.452500  110.242500  739.340000\n",
       "50%    2313.185000             1.000000  132.210000  132.295000  816.705000\n",
       "75%    2384.995000             7.000000  147.385000  144.427500  898.032500\n",
       "max    2415.820000            32.000000  152.780000  156.100000  975.880000"
      ]
     },
     "execution_count": 517,
     "metadata": {},
     "output_type": "execute_result"
    }
   ],
   "source": [
    "combined_table.describe()"
   ]
  },
  {
   "cell_type": "code",
   "execution_count": 521,
   "metadata": {},
   "outputs": [
    {
     "data": {
      "text/plain": [
       "<matplotlib.axes._subplots.AxesSubplot at 0x1a093add6d8>"
      ]
     },
     "execution_count": 521,
     "metadata": {},
     "output_type": "execute_result"
    },
    {
     "data": {
      "image/png": "[encoded data removed]",
      "text/plain": [
       "<matplotlib.figure.Figure at 0x1a09407a748>"
      ]
     },
     "metadata": {},
     "output_type": "display_data"
    }
   ],
   "source": [
    "# Below is to visualize the relationship between the features and the S&P500 Price using scatterplots\n",
    "fig, axs = plt.subplots(1, 4, sharey=True)\n",
    "combined_table.plot(kind='scatter', x='AAPL', y='SP500', ax=axs[0])\n",
    "combined_table.plot(kind='scatter', x='FB', y='SP500', ax=axs[1])\n",
    "combined_table.plot(kind='scatter', x='GOOG', y='SP500', ax=axs[2])\n",
    "combined_table.plot(kind='scatter', x='motleyfool_articles', y='SP500', ax=axs[3])"
   ]
  },
  {
   "cell_type": "code",
   "execution_count": 522,
   "metadata": {
    "collapsed": true
   },
   "outputs": [],
   "source": [
    "# There is positive correlation between the prices of Apple, Facebook, Google with the S&P500. \n",
    "# Above the number of articles of 1, u.e. from 2 to 30, there is a positive correlation between number of articles and S&P500."
   ]
  },
  {
   "cell_type": "code",
   "execution_count": 523,
   "metadata": {},
   "outputs": [
    {
     "data": {
      "image/png": "[encoded data removed]",
      "text/plain": [
       "<matplotlib.figure.Figure at 0x1a09405d6a0>"
      ]
     },
     "metadata": {},
     "output_type": "display_data"
    }
   ],
   "source": [
    "plt.figure()\n",
    "labels = [\"AAPL\", \"FB\", \"GOOG\", \"motleyfool_articles\", \"SP500\"]\n",
    "sns.heatmap(combined_table.corr(), xticklabels=labels, yticklabels=labels)\n",
    "plt.title(\"Heatmap of Correlations between Facebook, Google, Apple, Number of Motley Fool articles, Versus the S&P500 Index Price\")\n",
    "plt.show()"
   ]
  },
  {
   "cell_type": "code",
   "execution_count": 524,
   "metadata": {
    "collapsed": true
   },
   "outputs": [],
   "source": [
    "# From the heatmap it can be seen that to the S&P500, Google's price has the strongest correlation, followed by APPL,\n",
    "# then followed by the number of Motley Fool Investment website articles on that day, and lastly, by Facebook's price."
   ]
  },
  {
   "cell_type": "code",
   "execution_count": 525,
   "metadata": {},
   "outputs": [
    {
     "data": {
      "image/png": "[encoded data removed]",
      "text/plain": [
       "<matplotlib.figure.Figure at 0x1a0934dcb38>"
      ]
     },
     "metadata": {},
     "output_type": "display_data"
    }
   ],
   "source": [
    "sns.boxplot(\"motleyfool_articles\", \"SP500\", data=combined_table)\n",
    "plt.ylim(1800,2500)\n",
    "plt.show()"
   ]
  },
  {
   "cell_type": "code",
   "execution_count": 526,
   "metadata": {
    "collapsed": true
   },
   "outputs": [],
   "source": [
    "# When the number of articles written on the Motley Fool investment website is high, the S&P500 price is high as well."
   ]
  },
  {
   "cell_type": "markdown",
   "metadata": {},
   "source": [
    "# Data Cleaning"
   ]
  },
  {
   "cell_type": "markdown",
   "metadata": {},
   "source": [
    "- Prepare your dataset for modeling"
   ]
  },
  {
   "cell_type": "code",
   "execution_count": 527,
   "metadata": {},
   "outputs": [
    {
     "data": {
      "text/plain": [
       "Date                   90\n",
       "SP500                  90\n",
       "Change                 90\n",
       "motleyfool_articles    90\n",
       "FB                     90\n",
       "AAPL                   90\n",
       "GOOG                   90\n",
       "dtype: int64"
      ]
     },
     "execution_count": 527,
     "metadata": {},
     "output_type": "execute_result"
    }
   ],
   "source": [
    "combined_table.count()"
   ]
  },
  {
   "cell_type": "code",
   "execution_count": 528,
   "metadata": {
    "collapsed": true
   },
   "outputs": [],
   "source": [
    "# There are no missing values as the datasets had been merged based on a common key \"Date\", and all the prices are available for the matched dates."
   ]
  },
  {
   "cell_type": "markdown",
   "metadata": {},
   "source": [
    "# Modeling"
   ]
  },
  {
   "cell_type": "markdown",
   "metadata": {},
   "source": [
    "- Run a classification model (or a few, if you like)\n",
    "- How do you know how well your model is doing?"
   ]
  },
  {
   "cell_type": "markdown",
   "metadata": {},
   "source": [
    "First Model "
   ]
  },
  {
   "cell_type": "code",
   "execution_count": 550,
   "metadata": {},
   "outputs": [
    {
     "data": {
      "text/plain": [
       "Intercept              1086.942954\n",
       "AAPL                      3.129734\n",
       "FB                        5.627579\n",
       "GOOG                      0.042747\n",
       "motleyfool_articles      -3.011056\n",
       "dtype: float64"
      ]
     },
     "execution_count": 550,
     "metadata": {},
     "output_type": "execute_result"
    }
   ],
   "source": [
    "# create a fitted model in one line\n",
    "lm = smf.ols(formula='SP500 ~ AAPL + FB + GOOG + motleyfool_articles', data=combined_table).fit()\n",
    "\n",
    "# Below we print the coefficients\n",
    "lm.params"
   ]
  },
  {
   "cell_type": "code",
   "execution_count": 530,
   "metadata": {},
   "outputs": [
    {
     "data": {
      "text/html": [
       "<table class=\"simpletable\">\n",
       "<caption>OLS Regression Results</caption>\n",
       "<tr>\n",
       "  <th>Dep. Variable:</th>          <td>SP500</td>      <th>  R-squared:         </th> <td>   0.929</td>\n",
       "</tr>\n",
       "<tr>\n",
       "  <th>Model:</th>                   <td>OLS</td>       <th>  Adj. R-squared:    </th> <td>   0.925</td>\n",
       "</tr>\n",
       "<tr>\n",
       "  <th>Method:</th>             <td>Least Squares</td>  <th>  F-statistic:       </th> <td>   276.2</td>\n",
       "</tr>\n",
       "<tr>\n",
       "  <th>Date:</th>             <td>Wed, 02 Aug 2017</td> <th>  Prob (F-statistic):</th> <td>7.98e-48</td>\n",
       "</tr>\n",
       "<tr>\n",
       "  <th>Time:</th>                 <td>03:03:03</td>     <th>  Log-Likelihood:    </th> <td> -471.76</td>\n",
       "</tr>\n",
       "<tr>\n",
       "  <th>No. Observations:</th>      <td>    90</td>      <th>  AIC:               </th> <td>   953.5</td>\n",
       "</tr>\n",
       "<tr>\n",
       "  <th>Df Residuals:</th>          <td>    85</td>      <th>  BIC:               </th> <td>   966.0</td>\n",
       "</tr>\n",
       "<tr>\n",
       "  <th>Df Model:</th>              <td>     4</td>      <th>                     </th>     <td> </td>   \n",
       "</tr>\n",
       "<tr>\n",
       "  <th>Covariance Type:</th>      <td>nonrobust</td>    <th>                     </th>     <td> </td>   \n",
       "</tr>\n",
       "</table>\n",
       "<table class=\"simpletable\">\n",
       "<tr>\n",
       "           <td></td>              <th>coef</th>     <th>std err</th>      <th>t</th>      <th>P>|t|</th>  <th>[0.025</th>    <th>0.975]</th>  \n",
       "</tr>\n",
       "<tr>\n",
       "  <th>Intercept</th>           <td> 1086.9430</td> <td>   63.515</td> <td>   17.113</td> <td> 0.000</td> <td>  960.657</td> <td> 1213.228</td>\n",
       "</tr>\n",
       "<tr>\n",
       "  <th>AAPL</th>                <td>    3.1297</td> <td>    0.532</td> <td>    5.887</td> <td> 0.000</td> <td>    2.073</td> <td>    4.187</td>\n",
       "</tr>\n",
       "<tr>\n",
       "  <th>FB</th>                  <td>    5.6276</td> <td>    0.837</td> <td>    6.723</td> <td> 0.000</td> <td>    3.963</td> <td>    7.292</td>\n",
       "</tr>\n",
       "<tr>\n",
       "  <th>GOOG</th>                <td>    0.0427</td> <td>    0.187</td> <td>    0.229</td> <td> 0.820</td> <td>   -0.329</td> <td>    0.414</td>\n",
       "</tr>\n",
       "<tr>\n",
       "  <th>motleyfool_articles</th> <td>   -3.0111</td> <td>    1.239</td> <td>   -2.430</td> <td> 0.017</td> <td>   -5.475</td> <td>   -0.547</td>\n",
       "</tr>\n",
       "</table>\n",
       "<table class=\"simpletable\">\n",
       "<tr>\n",
       "  <th>Omnibus:</th>       <td> 5.271</td> <th>  Durbin-Watson:     </th> <td>   0.374</td>\n",
       "</tr>\n",
       "<tr>\n",
       "  <th>Prob(Omnibus):</th> <td> 0.072</td> <th>  Jarque-Bera (JB):  </th> <td>   5.197</td>\n",
       "</tr>\n",
       "<tr>\n",
       "  <th>Skew:</th>          <td> 0.356</td> <th>  Prob(JB):          </th> <td>  0.0744</td>\n",
       "</tr>\n",
       "<tr>\n",
       "  <th>Kurtosis:</th>      <td> 3.937</td> <th>  Cond. No.          </th> <td>1.07e+04</td>\n",
       "</tr>\n",
       "</table>"
      ],
      "text/plain": [
       "<class 'statsmodels.iolib.summary.Summary'>\n",
       "\"\"\"\n",
       "                            OLS Regression Results                            \n",
       "==============================================================================\n",
       "Dep. Variable:                  SP500   R-squared:                       0.929\n",
       "Model:                            OLS   Adj. R-squared:                  0.925\n",
       "Method:                 Least Squares   F-statistic:                     276.2\n",
       "Date:                Wed, 02 Aug 2017   Prob (F-statistic):           7.98e-48\n",
       "Time:                        03:03:03   Log-Likelihood:                -471.76\n",
       "No. Observations:                  90   AIC:                             953.5\n",
       "Df Residuals:                      85   BIC:                             966.0\n",
       "Df Model:                           4                                         \n",
       "Covariance Type:            nonrobust                                         \n",
       "=======================================================================================\n",
       "                          coef    std err          t      P>|t|      [0.025      0.975]\n",
       "---------------------------------------------------------------------------------------\n",
       "Intercept            1086.9430     63.515     17.113      0.000     960.657    1213.228\n",
       "AAPL                    3.1297      0.532      5.887      0.000       2.073       4.187\n",
       "FB                      5.6276      0.837      6.723      0.000       3.963       7.292\n",
       "GOOG                    0.0427      0.187      0.229      0.820      -0.329       0.414\n",
       "motleyfool_articles    -3.0111      1.239     -2.430      0.017      -5.475      -0.547\n",
       "==============================================================================\n",
       "Omnibus:                        5.271   Durbin-Watson:                   0.374\n",
       "Prob(Omnibus):                  0.072   Jarque-Bera (JB):                5.197\n",
       "Skew:                           0.356   Prob(JB):                       0.0744\n",
       "Kurtosis:                       3.937   Cond. No.                     1.07e+04\n",
       "==============================================================================\n",
       "\n",
       "Warnings:\n",
       "[1] Standard Errors assume that the covariance matrix of the errors is correctly specified.\n",
       "[2] The condition number is large, 1.07e+04. This might indicate that there are\n",
       "strong multicollinearity or other numerical problems.\n",
       "\"\"\""
      ]
     },
     "execution_count": 530,
     "metadata": {},
     "output_type": "execute_result"
    }
   ],
   "source": [
    "lm.summary()"
   ]
  },
  {
   "cell_type": "markdown",
   "metadata": {},
   "source": [
    "Second Model "
   ]
  },
  {
   "cell_type": "code",
   "execution_count": 552,
   "metadata": {
    "collapsed": true
   },
   "outputs": [],
   "source": [
    "# The Change column represents whether the S&P 500 went up or down from the previous day. \n",
    "# However, to do a logistic regression, it may be ncessary to use the binary values of 0 and 1\n",
    "# Hence, \"Up\" will be changed to 1, and \"Down\" to 0 in a new column \"change_binary\""
   ]
  },
  {
   "cell_type": "code",
   "execution_count": null,
   "metadata": {
    "collapsed": true
   },
   "outputs": [],
   "source": [
    "combined_table['change_binary'] = np.where(combined_table['Change']=='Up', '1', '0') "
   ]
  },
  {
   "cell_type": "code",
   "execution_count": 532,
   "metadata": {},
   "outputs": [
    {
     "data": {
      "text/html": [
       "<div>\n",
       "<style>\n",
       "    .dataframe thead tr:only-child th {\n",
       "        text-align: right;\n",
       "    }\n",
       "\n",
       "    .dataframe thead th {\n",
       "        text-align: left;\n",
       "    }\n",
       "\n",
       "    .dataframe tbody tr th {\n",
       "        vertical-align: top;\n",
       "    }\n",
       "</style>\n",
       "<table border=\"1\" class=\"dataframe\">\n",
       "  <thead>\n",
       "    <tr style=\"text-align: right;\">\n",
       "      <th></th>\n",
       "      <th>Date</th>\n",
       "      <th>SP500</th>\n",
       "      <th>Change</th>\n",
       "      <th>motleyfool_articles</th>\n",
       "      <th>FB</th>\n",
       "      <th>AAPL</th>\n",
       "      <th>GOOG</th>\n",
       "      <th>change_binary</th>\n",
       "    </tr>\n",
       "  </thead>\n",
       "  <tbody>\n",
       "    <tr>\n",
       "      <th>0</th>\n",
       "      <td>2017-05-31</td>\n",
       "      <td>2411.80</td>\n",
       "      <td>Down</td>\n",
       "      <td>16</td>\n",
       "      <td>151.46</td>\n",
       "      <td>152.76</td>\n",
       "      <td>964.86</td>\n",
       "      <td>0</td>\n",
       "    </tr>\n",
       "    <tr>\n",
       "      <th>1</th>\n",
       "      <td>2017-05-30</td>\n",
       "      <td>2412.91</td>\n",
       "      <td>Down</td>\n",
       "      <td>19</td>\n",
       "      <td>152.38</td>\n",
       "      <td>153.67</td>\n",
       "      <td>975.88</td>\n",
       "      <td>0</td>\n",
       "    </tr>\n",
       "    <tr>\n",
       "      <th>2</th>\n",
       "      <td>2017-05-26</td>\n",
       "      <td>2415.82</td>\n",
       "      <td>Up</td>\n",
       "      <td>26</td>\n",
       "      <td>152.13</td>\n",
       "      <td>153.61</td>\n",
       "      <td>971.47</td>\n",
       "      <td>1</td>\n",
       "    </tr>\n",
       "    <tr>\n",
       "      <th>3</th>\n",
       "      <td>2017-05-25</td>\n",
       "      <td>2415.07</td>\n",
       "      <td>Up</td>\n",
       "      <td>16</td>\n",
       "      <td>151.96</td>\n",
       "      <td>153.87</td>\n",
       "      <td>969.54</td>\n",
       "      <td>1</td>\n",
       "    </tr>\n",
       "    <tr>\n",
       "      <th>4</th>\n",
       "      <td>2017-05-24</td>\n",
       "      <td>2404.39</td>\n",
       "      <td>Up</td>\n",
       "      <td>32</td>\n",
       "      <td>150.04</td>\n",
       "      <td>153.34</td>\n",
       "      <td>954.96</td>\n",
       "      <td>1</td>\n",
       "    </tr>\n",
       "  </tbody>\n",
       "</table>\n",
       "</div>"
      ],
      "text/plain": [
       "        Date    SP500 Change  motleyfool_articles      FB    AAPL    GOOG  \\\n",
       "0 2017-05-31  2411.80   Down                   16  151.46  152.76  964.86   \n",
       "1 2017-05-30  2412.91   Down                   19  152.38  153.67  975.88   \n",
       "2 2017-05-26  2415.82     Up                   26  152.13  153.61  971.47   \n",
       "3 2017-05-25  2415.07     Up                   16  151.96  153.87  969.54   \n",
       "4 2017-05-24  2404.39     Up                   32  150.04  153.34  954.96   \n",
       "\n",
       "  change_binary  \n",
       "0             0  \n",
       "1             0  \n",
       "2             1  \n",
       "3             1  \n",
       "4             1  "
      ]
     },
     "execution_count": 532,
     "metadata": {},
     "output_type": "execute_result"
    }
   ],
   "source": [
    "combined_table.head()"
   ]
  },
  {
   "cell_type": "code",
   "execution_count": 558,
   "metadata": {},
   "outputs": [],
   "source": [
    "lm2 = LogisticRegression().fit(combined_table[[\"motleyfool_articles\"]], combined_table[\"change_binary\"])"
   ]
  },
  {
   "cell_type": "code",
   "execution_count": 534,
   "metadata": {},
   "outputs": [
    {
     "name": "stdout",
     "output_type": "stream",
     "text": [
      "[[ 0.04706341]]\n",
      "[ 0.01686923]\n"
     ]
    }
   ],
   "source": [
    "print(lm2.coef_)\n",
    "print(lm2.intercept_)"
   ]
  },
  {
   "cell_type": "code",
   "execution_count": 571,
   "metadata": {},
   "outputs": [
    {
     "data": {
      "text/plain": [
       "0.55555555555555558"
      ]
     },
     "execution_count": 571,
     "metadata": {},
     "output_type": "execute_result"
    }
   ],
   "source": [
    "accuracy_score(combined_table[\"change_binary\"], lm2.predict(combined_table[[\"motleyfool_articles\"]])) "
   ]
  },
  {
   "cell_type": "code",
   "execution_count": 572,
   "metadata": {},
   "outputs": [
    {
     "data": {
      "text/plain": [
       "<matplotlib.axes._subplots.AxesSubplot at 0x1a0947a6c18>"
      ]
     },
     "execution_count": 572,
     "metadata": {},
     "output_type": "execute_result"
    },
    {
     "data": {
      "image/png": "[encoded data removed]",
      "text/plain": [
       "<matplotlib.figure.Figure at 0x1a093500be0>"
      ]
     },
     "metadata": {},
     "output_type": "display_data"
    }
   ],
   "source": [
    "sns.barplot(\"motleyfool_articles\", \"Change\", data=combined_table)"
   ]
  },
  {
   "cell_type": "markdown",
   "metadata": {},
   "source": [
    "Third Model "
   ]
  },
  {
   "cell_type": "code",
   "execution_count": 536,
   "metadata": {
    "collapsed": true
   },
   "outputs": [],
   "source": [
    "techstock_factors = [\"AAPL\", \"GOOG\", \"FB\"]"
   ]
  },
  {
   "cell_type": "code",
   "execution_count": 537,
   "metadata": {
    "collapsed": true
   },
   "outputs": [],
   "source": [
    "lm3 = LogisticRegression().fit(combined_table[techstock_factors], combined_table[\"change_binary\"])"
   ]
  },
  {
   "cell_type": "code",
   "execution_count": 538,
   "metadata": {},
   "outputs": [
    {
     "name": "stdout",
     "output_type": "stream",
     "text": [
      "[[ 0.00607044 -0.00083006  0.00098098]]\n",
      "[-0.00027928]\n"
     ]
    }
   ],
   "source": [
    "print(lm3.coef_)\n",
    "print(lm3.intercept_)"
   ]
  },
  {
   "cell_type": "code",
   "execution_count": 539,
   "metadata": {},
   "outputs": [
    {
     "data": {
      "text/plain": [
       "0.55555555555555558"
      ]
     },
     "execution_count": 539,
     "metadata": {},
     "output_type": "execute_result"
    }
   ],
   "source": [
    "accuracy_score(combined_table[[\"change_binary\"]], lm3.predict(combined_table[techstock_factors])) "
   ]
  },
  {
   "cell_type": "markdown",
   "metadata": {},
   "source": [
    "# What does your analysis show?"
   ]
  },
  {
   "cell_type": "markdown",
   "metadata": {},
   "source": [
    "- What are your findings (in relation to your problem statement)?"
   ]
  },
  {
   "cell_type": "markdown",
   "metadata": {},
   "source": [
    "First Model"
   ]
  },
  {
   "cell_type": "code",
   "execution_count": null,
   "metadata": {
    "collapsed": true
   },
   "outputs": [],
   "source": [
    "#AAPL                      3.129734\n",
    "#FB                        5.627579\n",
    "#GOOG                      0.042747\n",
    "#motleyfool_articles      -3.011056"
   ]
  },
  {
   "cell_type": "code",
   "execution_count": 547,
   "metadata": {},
   "outputs": [],
   "source": [
    "# The co-efficient of AAPL is 3.129, meaning an increase in AAPL of 1, correponds to an increase of 3.129 in the S&P500."
   ]
  },
  {
   "cell_type": "code",
   "execution_count": 548,
   "metadata": {
    "collapsed": true
   },
   "outputs": [],
   "source": [
    "# The highest correlation is with Facebook, where an increase in FB of 1, correponds to an increase of 5.628 in S&P500."
   ]
  },
  {
   "cell_type": "code",
   "execution_count": 549,
   "metadata": {
    "collapsed": true
   },
   "outputs": [],
   "source": [
    "# Google has the lowest correlation"
   ]
  },
  {
   "cell_type": "code",
   "execution_count": null,
   "metadata": {
    "collapsed": true
   },
   "outputs": [],
   "source": [
    "# The number of Motley Fool articles "
   ]
  },
  {
   "cell_type": "markdown",
   "metadata": {},
   "source": [
    "Second Model "
   ]
  },
  {
   "cell_type": "code",
   "execution_count": 573,
   "metadata": {
    "collapsed": true
   },
   "outputs": [],
   "source": [
    "# The coefficient is: 0.04706341. \n",
    "# A small co-efficient of 0.047 indicate that more Motley Fool Articles written on the topic of the \"S&P 500\" \n",
    "# has a small effect on the odds of the S&P500 having an \"Up\" from the previous day. "
   ]
  },
  {
   "cell_type": "code",
   "execution_count": null,
   "metadata": {
    "collapsed": true
   },
   "outputs": [],
   "source": [
    "# From the bar plot it shows that when the S&P 500 Index has gone Up from the previous day, there are more articles \n",
    "# written in the Motley Fool website (mean of 5), compared to when the Index had gone down (mean 3.5 articles)."
   ]
  },
  {
   "cell_type": "markdown",
   "metadata": {},
   "source": [
    "Third Model "
   ]
  },
  {
   "cell_type": "code",
   "execution_count": null,
   "metadata": {
    "collapsed": true
   },
   "outputs": [],
   "source": [
    "# [[ 0.00607044 -0.00083006  0.00098098]]"
   ]
  },
  {
   "cell_type": "code",
   "execution_count": null,
   "metadata": {
    "collapsed": true
   },
   "outputs": [],
   "source": [
    "# The co-efficients of Apple, Google and Facebook are very small, all lower than 0.047 from above Second Model."
   ]
  },
  {
   "cell_type": "code",
   "execution_count": 565,
   "metadata": {
    "collapsed": true
   },
   "outputs": [],
   "source": [
    "# This indicates that the stock price performance of AAPL, Google and FB has an even smaller impact on the odds \n",
    "# that the S&P 500 has an \"Up\" move from the previous day's price, compared to the number of Motley Fool Articles. "
   ]
  }
 ],
 "metadata": {
  "kernelspec": {
   "display_name": "Python 3",
   "language": "python",
   "name": "python3"
  },
  "language_info": {
   "codemirror_mode": {
    "name": "ipython",
    "version": 3
   },
   "file_extension": ".py",
   "mimetype": "text/x-python",
   "name": "python",
   "nbconvert_exporter": "python",
   "pygments_lexer": "ipython3",
   "version": "3.6.1"
  },
  "toc": {
   "colors": {
    "hover_highlight": "#DAA520",
    "running_highlight": "#FF0000",
    "selected_highlight": "#FFD700"
   },
   "moveMenuLeft": true,
   "nav_menu": {
    "height": "264px",
    "width": "252px"
   },
   "navigate_menu": true,
   "number_sections": true,
   "sideBar": true,
   "threshold": 4,
   "toc_cell": false,
   "toc_section_display": "block",
   "toc_window_display": false,
   "widenNotebook": false
  }
 },
 "nbformat": 4,
 "nbformat_minor": 2
}
