{
 "cells": [
  {
   "cell_type": "code",
   "execution_count": 1,
   "metadata": {
    "collapsed": true
   },
   "outputs": [],
   "source": [
    "import pandas as pd\n",
    "import numpy as np\n",
    "from sklearn.linear_model import LinearRegression, Ridge, Lasso\n",
    "from sklearn.preprocessing import PolynomialFeatures, StandardScaler\n",
    "from sklearn import metrics, model_selection\n",
    "import statsmodels.formula.api as smf\n",
    "from sklearn.pipeline import make_pipeline\n",
    "\n",
    "# visualization\n",
    "import seaborn as sns\n",
    "import matplotlib.pyplot as plt\n",
    "%matplotlib inline"
   ]
  },
  {
   "cell_type": "markdown",
   "metadata": {},
   "source": [
    "#### HDB Resale Price Predictions "
   ]
  },
  {
   "cell_type": "markdown",
   "metadata": {},
   "source": [
    "For today's lab, we will continue working with the HDB resale dataset, and start to explore metrics around the accuracy of the linear models we generate https://data.gov.sg/dataset/resale-flat-prices"
   ]
  },
  {
   "cell_type": "code",
   "execution_count": 2,
   "metadata": {
    "collapsed": true
   },
   "outputs": [],
   "source": [
    "hdb = pd.read_csv('data/resale-flat-prices-based-on-registration-date-from-march-2012-onwards.csv')"
   ]
  },
  {
   "cell_type": "code",
   "execution_count": 3,
   "metadata": {
    "collapsed": true
   },
   "outputs": [],
   "source": [
    "hdb = hdb.rename(columns={'month': 'year-month'})\n",
    "hdb['year'] = hdb['year-month'].apply(lambda x: int(x.split(\"-\")[0]))\n",
    "hdb['month'] = hdb['year-month'].apply(lambda x: int(x.split(\"-\")[1]))\n",
    "hdb['lower_storey_bound'] = hdb['storey_range'].apply(lambda x: int(x.split()[0]))\n",
    "hdb['upper_storey_bound'] = hdb['storey_range'].apply(lambda x: int(x.split()[2]))\n",
    "hdb['flat_age'] = hdb['year'] - hdb['lease_commence_date']\n",
    "town_dummies = pd.get_dummies(hdb.town, drop_first=True, prefix='TOWN')\n",
    "hdb_town = pd.concat([hdb, town_dummies], axis=1)\n",
    "factors = np.concatenate((town_dummies.columns, [\"upper_storey_bound\", \"floor_area_sqm\", \"flat_age\"]), axis=0)"
   ]
  },
  {
   "cell_type": "markdown",
   "metadata": {},
   "source": [
    "#### 1. Using model_selection.train_test_split, divide the hdb_town data into a training and testing dataset with random_state = 1"
   ]
  },
  {
   "cell_type": "code",
   "execution_count": 4,
   "metadata": {
    "collapsed": true
   },
   "outputs": [],
   "source": [
    "# TODO"
   ]
  },
  {
   "cell_type": "markdown",
   "metadata": {},
   "source": [
    "#### 2. Create and fit a Linear Regression Model using Sklearn on the training dataset using the factors provided"
   ]
  },
  {
   "cell_type": "code",
   "execution_count": 5,
   "metadata": {
    "collapsed": true
   },
   "outputs": [],
   "source": [
    "# TODO"
   ]
  },
  {
   "cell_type": "markdown",
   "metadata": {},
   "source": [
    "#### 3. Calculate the MAE, MSE, and RMSE for predictions on the training data "
   ]
  },
  {
   "cell_type": "code",
   "execution_count": 6,
   "metadata": {},
   "outputs": [],
   "source": [
    "# TODO"
   ]
  },
  {
   "cell_type": "markdown",
   "metadata": {},
   "source": [
    "#### 4. Calculate the MAE, MSE, and RMSE for predictions on the testing data "
   ]
  },
  {
   "cell_type": "code",
   "execution_count": 7,
   "metadata": {
    "collapsed": true
   },
   "outputs": [],
   "source": [
    "# TODO"
   ]
  },
  {
   "cell_type": "markdown",
   "metadata": {},
   "source": [
    "#### 5. Using the entire dataset i.e. hdb_town, perform 10 folds cross validation. Compute the RMSE for each model fold and the overall mean RMSE "
   ]
  },
  {
   "cell_type": "code",
   "execution_count": 8,
   "metadata": {
    "collapsed": true
   },
   "outputs": [],
   "source": [
    "# TODO"
   ]
  },
  {
   "cell_type": "markdown",
   "metadata": {},
   "source": [
    "#### 6. Now split the dataset using year >= 2016 for testing and year < 2016 for training"
   ]
  },
  {
   "cell_type": "code",
   "execution_count": 9,
   "metadata": {},
   "outputs": [],
   "source": [
    "# TODO"
   ]
  },
  {
   "cell_type": "markdown",
   "metadata": {},
   "source": [
    "#### 7. Train a linear model on with this new training dataset and compute the RMSE of this model against both the  training and test data "
   ]
  },
  {
   "cell_type": "code",
   "execution_count": 10,
   "metadata": {
    "collapsed": true
   },
   "outputs": [],
   "source": [
    "# TODO"
   ]
  },
  {
   "cell_type": "markdown",
   "metadata": {},
   "source": [
    "#### Bonus Question 1"
   ]
  },
  {
   "cell_type": "markdown",
   "metadata": {},
   "source": [
    "Housing prices are often estimated by psf depending on the location. This might be a better way to predict the price instead of having a coefficient for area and a separate one for location. \n",
    "\n",
    "Create an additional set of columns with the prefix AREA\\_TOWN\\_ that contains the area if the flat is in that town or is 0 otherwise. Include these columns into the model and run a 10 fold cross validation to see if this improves the model.\n",
    "\n",
    "Note that you should keep the main terms in a model when interaction terms are included.\n",
    "\n",
    "Hint: Check the multiply function of dataframes"
   ]
  },
  {
   "cell_type": "code",
   "execution_count": 11,
   "metadata": {
    "collapsed": true
   },
   "outputs": [],
   "source": [
    "# TODO"
   ]
  }
 ],
 "metadata": {
  "anaconda-cloud": {},
  "kernelspec": {
   "display_name": "Python [python2]",
   "language": "python",
   "name": "Python [python2]"
  },
  "language_info": {
   "codemirror_mode": {
    "name": "ipython",
    "version": 2
   },
   "file_extension": ".py",
   "mimetype": "text/x-python",
   "name": "python",
   "nbconvert_exporter": "python",
   "pygments_lexer": "ipython2",
   "version": "2.7.13"
  }
 },
 "nbformat": 4,
 "nbformat_minor": 2
}
